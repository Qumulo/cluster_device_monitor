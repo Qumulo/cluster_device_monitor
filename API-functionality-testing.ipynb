{
 "cells": [
  {
   "cell_type": "code",
   "execution_count": 1,
   "id": "a6e81cac-4c55-499a-8dab-a75bc5e902c2",
   "metadata": {},
   "outputs": [],
   "source": [
    "import json\n",
    "import os\n",
    "import qumulo\n",
    "from qumulo.rest_client import RestClient"
   ]
  },
  {
   "cell_type": "code",
   "execution_count": 2,
   "id": "47eb56ae-e1b1-4e1d-8be6-53aa1c46ff98",
   "metadata": {},
   "outputs": [],
   "source": [
    "API_HOSTNAME = '10.120.0.34'\n",
    "API_USERNAME = 'admin'\n",
    "API_PASSWORD = 'Admin123'"
   ]
  },
  {
   "cell_type": "code",
   "execution_count": 3,
   "id": "47833b0c-0759-44bd-902e-3ff440c22ba5",
   "metadata": {},
   "outputs": [],
   "source": [
    "def cluster_login(api_hostname, api_username, api_password):\n",
    "    \"\"\"\n",
    "    Accept api_hostname, api_username and api_password as parameters. Log into\n",
    "    cluster via Qumulo Rest API. Return rest_client for all future API calls.\n",
    "    \"\"\"\n",
    "    rest_client = RestClient(api_hostname, 8000)\n",
    "    rest_client.login(api_username, api_password)\n",
    "\n",
    "    return rest_client"
   ]
  },
  {
   "cell_type": "code",
   "execution_count": 4,
   "id": "8dcdcafc-65a4-475f-8ae5-ac768e1c7050",
   "metadata": {},
   "outputs": [],
   "source": [
    "rest_client = cluster_login(API_HOSTNAME, API_USERNAME, API_PASSWORD)"
   ]
  },
  {
   "cell_type": "code",
   "execution_count": 5,
   "id": "8283ef8d-e746-4ff5-aea8-0c278e57469b",
   "metadata": {},
   "outputs": [],
   "source": [
    "# rest_client.ad.list_ad()"
   ]
  },
  {
   "cell_type": "code",
   "execution_count": 6,
   "id": "7a77b21c-f79a-4752-a37e-703325bdc764",
   "metadata": {},
   "outputs": [],
   "source": [
    "# rest_client.cluster.list_nodes()"
   ]
  },
  {
   "cell_type": "code",
   "execution_count": 7,
   "id": "3d73cd90-9767-4583-b1b6-af2740642fd4",
   "metadata": {},
   "outputs": [
    {
     "data": {
      "text/plain": [
       "'online'"
      ]
     },
     "execution_count": 7,
     "metadata": {},
     "output_type": "execute_result"
    }
   ],
   "source": [
    "rest_client.cluster.list_nodes()[0]['node_status']"
   ]
  },
  {
   "cell_type": "code",
   "execution_count": 8,
   "id": "d2161a79-9d62-42a7-a066-1b2ea5bac95b",
   "metadata": {},
   "outputs": [
    {
     "data": {
      "text/plain": [
       "{'node_id': 1,\n",
       " 'state': 'ACTIVE',\n",
       " 'cluster_id': 'cf83e828-7ef7-4368-a75b-3b972d10f2c6'}"
      ]
     },
     "execution_count": 8,
     "metadata": {},
     "output_type": "execute_result"
    }
   ],
   "source": [
    "rest_client.node_state.get_node_state()"
   ]
  },
  {
   "cell_type": "code",
   "execution_count": 9,
   "id": "df575f67-b525-4081-9b12-252f899644cf",
   "metadata": {},
   "outputs": [],
   "source": [
    "# rest_client.cluster.get_cluster_slots_status()"
   ]
  },
  {
   "cell_type": "code",
   "execution_count": 10,
   "id": "4f877c2e-b918-494f-8335-5f6f591c2a00",
   "metadata": {},
   "outputs": [],
   "source": [
    "multilinestring = \"\"\"\n",
    "this\n",
    "that\n",
    "then\n",
    "your mom\n",
    "\"\"\""
   ]
  },
  {
   "cell_type": "code",
   "execution_count": 11,
   "id": "773e4f1c-f508-4221-ac99-d14f99fd6e9a",
   "metadata": {},
   "outputs": [
    {
     "data": {
      "text/plain": [
       "'\\nthis\\nthat\\nthen\\nyour mom\\n'"
      ]
     },
     "execution_count": 11,
     "metadata": {},
     "output_type": "execute_result"
    }
   ],
   "source": [
    "multilinestring"
   ]
  },
  {
   "cell_type": "code",
   "execution_count": 12,
   "id": "b2ea26ce-0151-43a9-9e78-0aa9e62a478a",
   "metadata": {},
   "outputs": [
    {
     "name": "stdout",
     "output_type": "stream",
     "text": [
      "\n",
      "this\n",
      "that\n",
      "then\n",
      "your mom\n",
      "\n"
     ]
    }
   ],
   "source": [
    "print(multilinestring)"
   ]
  },
  {
   "cell_type": "code",
   "execution_count": 13,
   "id": "d74f498f-7fd0-4a13-958c-70507cfa667a",
   "metadata": {},
   "outputs": [],
   "source": [
    "# rest_client.cluster.get_cluster_slots_status()"
   ]
  },
  {
   "cell_type": "code",
   "execution_count": 14,
   "id": "ec95a16f-1e71-4a5a-9625-cbb4e8018580",
   "metadata": {},
   "outputs": [
    {
     "data": {
      "text/plain": [
       "'/Users/rthompson/Documents/Dev/Python/cluster-event-alerts'"
      ]
     },
     "execution_count": 14,
     "metadata": {},
     "output_type": "execute_result"
    }
   ],
   "source": [
    "os.getcwd()"
   ]
  },
  {
   "cell_type": "code",
   "execution_count": 15,
   "id": "913e8bf1-2242-402b-84eb-5f1b83d297dc",
   "metadata": {},
   "outputs": [],
   "source": [
    "# if 'cluster_state.json' in os.listdir():\n",
    "#     os.rename('cluster_state.json','cluster_state_previous.json')\n",
    "#     PREVIOUS_EXISTED = True\n",
    "\n",
    "with open('cluster_state.json', 'w') as f:\n",
    "    for data in rest_client.cluster.list_nodes():\n",
    "        f.writelines(data)"
   ]
  },
  {
   "cell_type": "code",
   "execution_count": 16,
   "id": "05193dff-f614-4ae5-baca-51cfc9cb373d",
   "metadata": {},
   "outputs": [],
   "source": [
    "# for item in rest_client.cluster.list_nodes():\n",
    "#     print(item)"
   ]
  },
  {
   "cell_type": "code",
   "execution_count": 17,
   "id": "8c6f1804-c7da-4200-82dc-6c62c40fde1a",
   "metadata": {},
   "outputs": [],
   "source": [
    "# rest_client.cluster.list_nodes()[:2]"
   ]
  },
  {
   "cell_type": "code",
   "execution_count": 18,
   "id": "8e6866b5-4373-44e1-9ca7-118c7283f22a",
   "metadata": {},
   "outputs": [
    {
     "data": {
      "text/plain": [
       "{'id': 1,\n",
       " 'node_status': 'online',\n",
       " 'node_name': 'CoffeeTime-1',\n",
       " 'uuid': '10a1c7aa-fb99-48a1-8dc3-b34b96777742',\n",
       " 'label': '00:50:56:bf:68:82',\n",
       " 'model_number': 'QVIRT',\n",
       " 'serial_number': 'QVIRT',\n",
       " 'mac_address': '00:50:56:bf:68:82'}"
      ]
     },
     "execution_count": 18,
     "metadata": {},
     "output_type": "execute_result"
    }
   ],
   "source": [
    "rest_client.cluster.list_nodes()[0]"
   ]
  },
  {
   "cell_type": "code",
   "execution_count": 19,
   "id": "d3e55144-8b89-4d0c-9dd9-83d9f2453dba",
   "metadata": {},
   "outputs": [],
   "source": [
    "node_relevant_fields = ['id','node_status','node_name','uuid','model_number','serial_number']\n",
    "drive_relevant_fields = ['id','node_id','slot','state','slot_type','disk_type','disk_model','disk_serial_number','capacity']"
   ]
  },
  {
   "cell_type": "code",
   "execution_count": 20,
   "id": "3f4be7c7-111a-4a56-b4c9-8af24c735d5d",
   "metadata": {},
   "outputs": [],
   "source": [
    "newlist = []\n",
    "for entry in range(len(rest_client.cluster.list_nodes())):\n",
    "    newdict = {}\n",
    "    for k,v in rest_client.cluster.list_nodes()[entry].items():\n",
    "        if k in node_relevant_fields:\n",
    "            newdict[k] = v\n",
    "    newlist.append(newdict)"
   ]
  },
  {
   "cell_type": "code",
   "execution_count": 21,
   "id": "8b8053b0-330d-482a-83e9-a7dda1a2db69",
   "metadata": {},
   "outputs": [
    {
     "name": "stdout",
     "output_type": "stream",
     "text": [
      "0\n",
      "1\n",
      "2\n",
      "3\n"
     ]
    }
   ],
   "source": [
    "for entry in range(len(rest_client.cluster.list_nodes())):\n",
    "    print(entry)"
   ]
  },
  {
   "cell_type": "code",
   "execution_count": 22,
   "id": "0b423131-d514-4d14-ac67-8d53717b6a07",
   "metadata": {},
   "outputs": [
    {
     "data": {
      "text/plain": [
       "dict_items([('id', 2), ('node_status', 'online'), ('node_name', 'CoffeeTime-2'), ('uuid', 'cbdea0e3-1659-48af-b15b-e97dbbeefd04'), ('label', '00:50:56:bf:f1:57'), ('model_number', 'QVIRT'), ('serial_number', 'QVIRT'), ('mac_address', '00:50:56:bf:f1:57')])"
      ]
     },
     "execution_count": 22,
     "metadata": {},
     "output_type": "execute_result"
    }
   ],
   "source": [
    "rest_client.cluster.list_nodes()[1].items()"
   ]
  },
  {
   "cell_type": "code",
   "execution_count": 23,
   "id": "6aed9ad6-5b6c-4245-a53c-973a50fd8970",
   "metadata": {},
   "outputs": [],
   "source": [
    "def get_cluster_time(rest_client):\n",
    "    \"\"\"\n",
    "    Get current cluster time and return as cluster_time.\n",
    "    \"\"\"\n",
    "    \n",
    "    cluster_time = rest_client.time_config.get_time_status()['time']\n",
    "    \n",
    "    return cluster_time"
   ]
  },
  {
   "cell_type": "code",
   "execution_count": 47,
   "id": "999c9482-9319-49d2-8e8d-54f5d0afb90c",
   "metadata": {
    "tags": []
   },
   "outputs": [],
   "source": [
    "def get_cluster_name(rest_client):\n",
    "    \"\"\"\n",
    "    Query API for cluster name. Return cluster name as string.\n",
    "    \"\"\"\n",
    "    cluster_name = rest_client.cluster.get_cluster_conf()['cluster_name']\n",
    "\n",
    "    return cluster_name"
   ]
  },
  {
   "cell_type": "code",
   "execution_count": 80,
   "id": "b92cbcb6-77a6-4b3f-9927-99d2655408c6",
   "metadata": {},
   "outputs": [],
   "source": [
    "def get_cluser_uuid(rest_client):\n",
    "    \"\"\"\n",
    "    Query API for cluster UUID number. Return UUID as string.\n",
    "    \"\"\"\n",
    "    \n",
    "    cluster_uuid = rest_client.node_state.get_node_state()['cluster_id']\n",
    "    \n",
    "    return cluster_uuid"
   ]
  },
  {
   "cell_type": "code",
   "execution_count": 25,
   "id": "b8b1b94f-a113-423e-ada0-e0279b362045",
   "metadata": {},
   "outputs": [],
   "source": [
    "def get_qq_version(rest_client):\n",
    "    \"\"\"\n",
    "    Query API for Qumulo Core version. Return version as string.\n",
    "    \"\"\"\n",
    "\n",
    "    qq_version = rest_client.version.version()['revision_id']\n",
    "\n",
    "    return qq_version"
   ]
  },
  {
   "cell_type": "code",
   "execution_count": 26,
   "id": "f8cb4a02-fce7-44b6-b265-9aa233b4524b",
   "metadata": {},
   "outputs": [],
   "source": [
    "def retrieve_status_of_cluster_nodes(rest_client):\n",
    "    \"\"\"\n",
    "    Accept rest_client object to query via API call to retrieve info/status for\n",
    "    nodes. Parse through information and record relevant information. Return\n",
    "    dict object to later dump as json.\n",
    "    \"\"\"\n",
    "    node_relevant_fields = [\n",
    "        'id',\n",
    "        'node_status',\n",
    "        'node_name',\n",
    "        'uuid',\n",
    "        'model_number',\n",
    "        'serial_number',\n",
    "    ]\n",
    "\n",
    "    temp_list = []\n",
    "    for num in range(len(rest_client.cluster.list_nodes())):\n",
    "        new_dict = {}\n",
    "        for k,v in rest_client.cluster.list_nodes()[num].items():\n",
    "            if k in node_relevant_fields:\n",
    "                new_dict[k] = v\n",
    "        temp_list.append(new_dict)\n",
    "    \n",
    "    status_of_nodes = {}\n",
    "    status_of_nodes['nodes'] = temp_list\n",
    "\n",
    "    return status_of_nodes"
   ]
  },
  {
   "cell_type": "code",
   "execution_count": 27,
   "id": "bff90f88-9237-4627-90a1-1f158cc2c1d2",
   "metadata": {},
   "outputs": [],
   "source": [
    "def retrieve_status_of_cluster_drives(rest_client):\n",
    "    \"\"\"\n",
    "    Accept rest_client object to query via API call to retrieve info/status for\n",
    "    drives. Parse through information and record relevant information. Return\n",
    "    dict object to later dump as json.\n",
    "    \"\"\"\n",
    "    drive_relevant_fields = [\n",
    "        'id',\n",
    "        'node_id',\n",
    "        'slot',\n",
    "        'state',\n",
    "        'slot_type',\n",
    "        'disk_type',\n",
    "        'disk_model',\n",
    "        'disk_serial_number',\n",
    "        'capacity',\n",
    "    ]\n",
    "\n",
    "    temp_list = []\n",
    "    for num in range(len(rest_client.cluster.get_cluster_slots_status())):\n",
    "        new_dict = {}\n",
    "        for k,v in rest_client.cluster.get_cluster_slots_status()[num].items():\n",
    "            if k in drive_relevant_fields:\n",
    "                new_dict[k] = v\n",
    "        temp_list.append(new_dict)\n",
    "\n",
    "    status_of_drives = {}\n",
    "    status_of_drives['drives'] = temp_list\n",
    "\n",
    "    return status_of_drives"
   ]
  },
  {
   "cell_type": "code",
   "execution_count": 28,
   "id": "4b5d53ba-514a-460d-9d21-c0f653eef1e3",
   "metadata": {},
   "outputs": [],
   "source": [
    "status_of_nodes = retrieve_status_of_cluster_nodes(rest_client)\n",
    "# status_of_nodes"
   ]
  },
  {
   "cell_type": "code",
   "execution_count": 29,
   "id": "60823668-59fb-4e62-ac87-2d8917346f9b",
   "metadata": {},
   "outputs": [],
   "source": [
    "status_of_drives = retrieve_status_of_cluster_drives(rest_client)\n",
    "# status_of_drives"
   ]
  },
  {
   "cell_type": "code",
   "execution_count": 30,
   "id": "6f92217b-b34b-48e1-8a79-f201a79e0e99",
   "metadata": {},
   "outputs": [],
   "source": [
    "def combine_statuses_formatting(status_of_nodes, status_of_drives):\n",
    "    \"\"\"\n",
    "    In order to adhere to proper json formatting, this func will combine the\n",
    "    two status_of_nodes and status_of_drives dictionary objects into one\n",
    "    single dictionary object and return this as cluster_status.\n",
    "    \"\"\"\n",
    "    status_of_nodes['drives'] = status_of_drives['drives']    \n",
    "    cluster_status = status_of_nodes\n",
    "    \n",
    "    return cluster_status"
   ]
  },
  {
   "cell_type": "code",
   "execution_count": 31,
   "id": "308fc687-bef4-4d61-b261-2e0b85010047",
   "metadata": {
    "tags": []
   },
   "outputs": [],
   "source": [
    "cluster_status = combine_statuses_formatting(status_of_nodes, status_of_drives)"
   ]
  },
  {
   "cell_type": "code",
   "execution_count": 32,
   "id": "79dd7896-716b-46a8-8866-11fd2d2ab242",
   "metadata": {},
   "outputs": [],
   "source": [
    "def check_for_previous_state(cluster_status):\n",
    "    \"\"\"\n",
    "    If cluster_state.json exists, rename it to cluster_state_previous.json.\n",
    "    Regardless of this, also create cluster_state.json and write node + drive\n",
    "    statuses to file. Return boolean for previous_existed.\n",
    "    \"\"\"\n",
    "\n",
    "    if 'cluster_state.json' in os.listdir():\n",
    "        os.rename('cluster_state.json','cluster_state_previous.json')\n",
    "        previous_existed = True\n",
    "    else:\n",
    "        previous_existed = False\n",
    "\n",
    "    with open('cluster_state.json', 'w') as f:\n",
    "        json.dump(cluster_status, f, indent=4)\n",
    "\n",
    "    return previous_existed"
   ]
  },
  {
   "cell_type": "code",
   "execution_count": 33,
   "id": "43f7c758-0180-435b-a8e0-f0d4a9239ac2",
   "metadata": {},
   "outputs": [],
   "source": [
    "def compare_states():\n",
    "    \"\"\"\n",
    "    Only being ran if previous_existed is true, this func will compare the\n",
    "    json files for the previous and current cluster state. Return bool for\n",
    "    whether or not the data has changed. Return bool for if changes were found.\n",
    "    \"\"\"    \n",
    "\n",
    "    file1 = 'cluster_state.json'\n",
    "    file2 = 'cluster_state_previous.json'\n",
    "\n",
    "    with open(file1) as f1, open(file2) as f2:\n",
    "        data1, data2 = json.load(f1), json.load(f2)\n",
    "        changes = data1 == data2\n",
    "\n",
    "    # XXX: can potentially remove all of this\n",
    "    if changes:\n",
    "        print('Changes found!! Scanning for unhealthy objects.') # XXX: Later remove\n",
    "    else:\n",
    "        print('Changes not found! Not scanning for unhealthy objects') # XXX: Later remove\n",
    "\n",
    "    return changes"
   ]
  },
  {
   "cell_type": "code",
   "execution_count": 34,
   "id": "cd3205e5-40c9-42e7-add8-fab6d2ea58ec",
   "metadata": {},
   "outputs": [],
   "source": [
    "previous_existed = check_for_previous_state(cluster_status)"
   ]
  },
  {
   "cell_type": "code",
   "execution_count": 35,
   "id": "3720393f-ec9d-4e44-8492-4a2c5a5360af",
   "metadata": {},
   "outputs": [],
   "source": [
    "def check_for_unhealthy_objects():\n",
    "    \"\"\" \n",
    "    Scan the cluster_state.json file to determine whether or not there are \n",
    "    unhealthy objects. If there are unhealthy objects, append the data to\n",
    "    new dict object called alert_data, which will later be used to populate\n",
    "    the alert. Also return whether or not cluster is healthy as bool. \n",
    "    \"\"\"\n",
    "    healthy = True\n",
    "\n",
    "    with open('cluster_state_TEST.json') as f:  # XXX: Later change value to 'cluster_state.json'\n",
    "        data = json.load(f)\n",
    "        alert_data = {}\n",
    "        counter = 1\n",
    "        \n",
    "        # scan through json for offline nodes\n",
    "        for dictobj in data['nodes']:\n",
    "            for k,v in dictobj.items():\n",
    "                if k == 'node_status':\n",
    "                    if v != 'online':\n",
    "                        print('ALERT!! UNHEALTHY NODE FOUND.') # XXX: Later remove\n",
    "                        alert_data[f'Event {counter}'] = dictobj\n",
    "                        counter += 1\n",
    "                        healthy = False\n",
    "        # scan through json for unhealthy drives\n",
    "        for dictobj in data['drives']:\n",
    "            for k,v in dictobj.items():\n",
    "                if k == 'state':\n",
    "                    if v != 'healthy':\n",
    "                        print('ALERT!! UNHEALTHY DRIVE FOUND.') # XXX: Later remove \n",
    "                        alert_data[f'Event {counter}'] = dictobj   \n",
    "                        counter += 1\n",
    "                        healthy = False\n",
    "            \n",
    "    if healthy:\n",
    "        print('No unhealthy changes found.')\n",
    "\n",
    "    print(f'alert data: {alert_data}') # XXX: later remove\n",
    "\n",
    "    return alert_data, healthy"
   ]
  },
  {
   "cell_type": "code",
   "execution_count": 39,
   "id": "994e7318-62ee-470f-a731-98dffd52056b",
   "metadata": {},
   "outputs": [
    {
     "name": "stdout",
     "output_type": "stream",
     "text": [
      "ALERT!! UNHEALTHY NODE FOUND.\n",
      "ALERT!! UNHEALTHY DRIVE FOUND.\n",
      "alert data: {'Event 1': {'id': 2, 'node_status': 'offline', 'node_name': 'CoffeeTime-2', 'uuid': 'cbdea0e3-1659-48af-b15b-e97dbbeefd04', 'model_number': 'QVIRT', 'serial_number': 'QVIRT'}, 'Event 2': {'id': '2.2', 'node_id': 2, 'slot': 2, 'state': 'unhealthy', 'slot_type': 'SSD', 'disk_type': 'SSD', 'disk_model': 'Virtual_disk', 'disk_serial_number': '', 'capacity': '10467934208'}}\n"
     ]
    }
   ],
   "source": [
    "alert_data, healthy = check_for_unhealthy_objects()"
   ]
  },
  {
   "cell_type": "code",
   "execution_count": 36,
   "id": "03313f21-67d5-4d49-86e3-577eade0c4c7",
   "metadata": {},
   "outputs": [
    {
     "name": "stdout",
     "output_type": "stream",
     "text": [
      "comparison: True\n"
     ]
    }
   ],
   "source": [
    "json1 = json.dumps('cluster_state.json', sort_keys=True)\n",
    "json2 = json.dumps('cluster_state_TEST.json', sort_keys=True)\n",
    "print(f'comparison: {json1 != json2}')"
   ]
  },
  {
   "cell_type": "code",
   "execution_count": 37,
   "id": "4ebe6edb-8950-4d20-b2b8-b5cf394dd3a6",
   "metadata": {},
   "outputs": [
    {
     "name": "stdout",
     "output_type": "stream",
     "text": [
      "False\n"
     ]
    }
   ],
   "source": [
    "with open('cluster_state.json') as f1, open('cluster_state_TEST.json') as f2:\n",
    "    data1 = json.load(f1)\n",
    "    data2 = json.load(f2)\n",
    "    something = data1 == data2\n",
    "    print(something)"
   ]
  },
  {
   "cell_type": "code",
   "execution_count": 43,
   "id": "7b672f5a-0abf-438b-a8a5-061de50e8251",
   "metadata": {
    "tags": []
   },
   "outputs": [
    {
     "name": "stdout",
     "output_type": "stream",
     "text": [
      "A node has gone offline.\n"
     ]
    }
   ],
   "source": [
    "node_event = 'A node has gone offline.'\n",
    "\n",
    "for item in alert_data:\n",
    "    for k,v in alert_data[item].items():\n",
    "        if k == 'node_status':\n",
    "            print(node_event)"
   ]
  },
  {
   "cell_type": "code",
   "execution_count": 73,
   "id": "28baf5ab-d46c-4caf-85d1-cbf17d6c84d6",
   "metadata": {},
   "outputs": [
    {
     "data": {
      "text/plain": [
       "'cbdea0e3-1659-48af-b15b-e97dbbeefd04'"
      ]
     },
     "execution_count": 73,
     "metadata": {},
     "output_type": "execute_result"
    }
   ],
   "source": [
    "rest_client.cluster.list_node(2)['uuid']"
   ]
  },
  {
   "cell_type": "code",
   "execution_count": 101,
   "id": "0e2f1e3b-9dfd-42ad-ba4a-159fa5a950a1",
   "metadata": {},
   "outputs": [
    {
     "name": "stdout",
     "output_type": "stream",
     "text": [
      "('id', '2.2')\n",
      "('node_id', 2)\n",
      "('slot', 2)\n",
      "('state', 'unhealthy')\n",
      "('slot_type', 'SSD')\n",
      "('disk_type', 'SSD')\n",
      "('disk_model', 'Virtual_disk')\n",
      "('disk_serial_number', '')\n",
      "('capacity', '10467934208')\n"
     ]
    }
   ],
   "source": [
    "for val in alert_data['Event 2'].items():\n",
    "    print(val)"
   ]
  },
  {
   "cell_type": "code",
   "execution_count": 96,
   "id": "27e32287-0cf0-4c5a-8280-069877d676c1",
   "metadata": {},
   "outputs": [
    {
     "name": "stdout",
     "output_type": "stream",
     "text": [
      "================== CLUSTER EVENT ALERT! ==================\n",
      "Unhealthy object(s) found. See below for info\n",
      "and engage Qumulo Support in your preferred fashion.\n",
      "\n",
      "Cluster name: CoffeeTime\n",
      "Cluster UUID: cf83e828-7ef7-4368-a75b-3b972d10f2c6\n",
      "Approx. time: 2021-05-15T22:23:08.16670735Z\n",
      "\n",
      "Event(s) found:\n",
      "=============== A node has gone offline. ===============\n",
      "            Node number: 2\n",
      "            Node status: offline\n",
      "            Serial Number: QVIRT\n",
      "            Node UUID: cbdea0e3-1659-48af-b15b-e97dbbeefd04           \n",
      "            Node Type: QVIRT\n",
      "            Qumulo Core Version: Qumulo Core 3.3.2\n",
      "            \n",
      "=============== A drive is no longer healthy. ===============\n",
      "            Node number: 2\n",
      "            Drive slot: 2\n",
      "            Drive status: unhealthy\n",
      "            Slot type: SSD\n",
      "            Disk type: SSD\n",
      "            Disk model: Virtual_disk\n",
      "            Disk serial number: \n",
      "            Disk capacity: 10467934208\n",
      "            \n",
      "\n"
     ]
    }
   ],
   "source": [
    "qq_version = get_qq_version(rest_client)\n",
    "cluster_name = get_cluster_name(rest_client)\n",
    "cluser_uuid = get_cluser_uuid(rest_client)\n",
    "cluster_time = get_cluster_time(rest_client)\n",
    "alert_header = '=' * 18 + ' CLUSTER EVENT ALERT! ' + '=' * 18\n",
    "email_alert = f\"\"\"{alert_header}\\nUnhealthy object(s) found. See below for info\n",
    "and engage Qumulo Support in your preferred fashion.\n",
    "\n",
    "Cluster name: {cluster_name}\n",
    "Cluster UUID: {cluster_uuid}\n",
    "Approx. time: {cluster_time}\n",
    "\n",
    "Event(s) found:\n",
    "\"\"\"\n",
    "\n",
    "node_event_heading = '=' * 15 + ' A node has gone offline. ' + '=' * 15\n",
    "drive_event_heading = '=' * 15 + ' A drive is no longer healthy. ' + '=' * 15\n",
    "\n",
    "for item in alert_data:\n",
    "    for k,v in alert_data[item].items():\n",
    "        if k == 'node_status':    # this is a node alert\n",
    "            email_alert += node_event_heading\n",
    "            node_alert_text = f\"\"\"\n",
    "            Node number: {alert_data[item]['id']}\n",
    "            Node status: {alert_data[item]['node_status']}\n",
    "            Serial Number: {alert_data[item]['serial_number']}\n",
    "            Node UUID: {alert_data[item]['uuid']}           \n",
    "            Node Type: {alert_data[item]['model_number']}\n",
    "            Qumulo Core Version: {qq_version}\n",
    "            \"\"\"\n",
    "\n",
    "            email_alert += node_alert_text + '\\n'\n",
    "\n",
    "        elif k == 'disk_type':    # this is a drive alert\n",
    "            email_alert += drive_event_heading\n",
    "            drive_alert_text = f\"\"\"\n",
    "            Node number: {alert_data[item]['node_id']}\n",
    "            Drive slot: {alert_data[item]['slot']}\n",
    "            Drive status: {alert_data[item]['state']}\n",
    "            Slot type: {alert_data[item]['slot_type']}\n",
    "            Disk type: {alert_data[item]['disk_type']}\n",
    "            Disk model: {alert_data[item]['disk_model']}\n",
    "            Disk serial number: {alert_data[item]['disk_serial_number']}\n",
    "            Disk capacity: {alert_data[item]['capacity']}\n",
    "            \"\"\"\n",
    "\n",
    "            email_alert += drive_alert_text + '\\n'\n",
    "\n",
    "print(email_alert)"
   ]
  },
  {
   "cell_type": "code",
   "execution_count": 84,
   "id": "4556cb2c-bb7b-4426-9522-6980f0d71eb9",
   "metadata": {},
   "outputs": [
    {
     "name": "stdout",
     "output_type": "stream",
     "text": [
      "\n",
      "            Cluster name: CoffeeTime\n",
      "            Node number: 2\n",
      "            Node status: offline\n",
      "            Serial Number: QVIRT\n",
      "            Cluster UUID: cf83e828-7ef7-4368-a75b-3b972d10f2c6\n",
      "            Node UUID: cbdea0e3-1659-48af-b15b-e97dbbeefd04           \n",
      "            Node Type: QVIRT\n",
      "            Qumulo Core Version: Qumulo Core 3.3.2    \n",
      "            \n"
     ]
    }
   ],
   "source": [
    "print(node_alert_text)"
   ]
  },
  {
   "cell_type": "code",
   "execution_count": 37,
   "id": "31955a4d-8b1a-4089-b7c6-b4ac662efb0c",
   "metadata": {},
   "outputs": [],
   "source": [
    "def generate_alert_email(alert_data, rest_client):\n",
    "    \"\"\"\n",
    "    Generate email alert and return as string\n",
    "    \"\"\"\n",
    "\n",
    "    qq_version = get_qq_version(rest_client)\n",
    "    cluster_name = get_cluster_name(rest_client)\n",
    "    cluster_uuid = get_cluser_uuid(rest_client)\n",
    "    cluster_time = get_cluster_time(rest_client)\n",
    "    \n",
    "    alert_header = '=' * 18 + ' CLUSTER EVENT ALERT! ' + '=' * 18\n",
    "    email_alert = f\"\"\"{alert_header}\\nUnhealthy object(s) found. See below for info\n",
    "    and engage Qumulo Support in your preferred fashion.\n",
    "\n",
    "    Cluster name: {cluster_name}\n",
    "    Cluster UUID: {cluster_uuid}\n",
    "    Approx. time: {cluster_time}\n",
    "\n",
    "    Event(s) found:\n",
    "    \"\"\"\n",
    "\n",
    "    node_event_heading = '=' * 15 + ' A node has gone offline. ' + '=' * 15\n",
    "    drive_event_heading = '=' * 15 + ' A drive is no longer healthy. ' + '=' * 15\n",
    "\n",
    "    for item in alert_data:\n",
    "        for k,v in alert_data[item].items():\n",
    "            if k == 'node_status':    # this is a node alert\n",
    "                email_alert += node_event_heading\n",
    "                node_alert_text = f\"\"\"\n",
    "                Node number: {alert_data[item]['id']}\n",
    "                Node status: {alert_data[item]['node_status']}\n",
    "                Serial Number: {alert_data[item]['serial_number']}\n",
    "                Node UUID: {alert_data[item]['uuid']}           \n",
    "                Node Type: {alert_data[item]['model_number']}\n",
    "                Qumulo Core Version: {qq_version}\n",
    "                \"\"\"\n",
    "\n",
    "                email_alert += node_alert_text + '\\n'\n",
    "\n",
    "            elif k == 'disk_type':    # this is a drive alert\n",
    "                email_alert += drive_event_heading\n",
    "                drive_alert_text = f\"\"\"\n",
    "                Node number: {alert_data[item]['node_id']}\n",
    "                Drive slot: {alert_data[item]['slot']}\n",
    "                Drive status: {alert_data[item]['state']}\n",
    "                Slot type: {alert_data[item]['slot_type']}\n",
    "                Disk type: {alert_data[item]['disk_type']}\n",
    "                Disk model: {alert_data[item]['disk_model']}\n",
    "                Disk serial number: {alert_data[item]['disk_serial_number']}\n",
    "                Disk capacity: {alert_data[item]['capacity']}\n",
    "                \"\"\"\n",
    "\n",
    "                email_alert += drive_alert_text + '\\n'\n",
    "    \n",
    "    return email_alert"
   ]
  },
  {
   "cell_type": "code",
   "execution_count": 41,
   "id": "36d56772-131e-4e52-a522-a6bad8c7ad6c",
   "metadata": {},
   "outputs": [],
   "source": [
    "def get_email_recipients():\n",
    "    \"\"\"\n",
    "    Pull email recipients from config file.\n",
    "    \"\"\"\n",
    "\n",
    "    email_recipients = []\n",
    "\n",
    "    return email_recipients"
   ]
  },
  {
   "cell_type": "code",
   "execution_count": 42,
   "id": "505857ec-5972-4f3a-8e3c-e2496c8789ac",
   "metadata": {},
   "outputs": [],
   "source": [
    "def send_email(email_alert, email_recipients):\n",
    "    \"\"\"\n",
    "    Send an email populated with alert information to all email addresses in\n",
    "    receipients list specified in config.py.\n",
    "    \"\"\"\n",
    "\n",
    "    pass"
   ]
  },
  {
   "cell_type": "code",
   "execution_count": 44,
   "id": "d96c7182-6732-4494-be95-178b6881d8a6",
   "metadata": {},
   "outputs": [
    {
     "name": "stdout",
     "output_type": "stream",
     "text": [
      "email alert: \n",
      "    ALERT HERE. (Node: <FILL ME OUT>)\n",
      "    Cluster Name:  <FILL ME OUT>\n",
      "    Serial Number\t<FILL ME OUT>\n",
      "    Cluster UUID\t<FILL ME OUT>\n",
      "    Node UUID\t<FILL ME OUT>\n",
      "    Node Type\t<FILL ME OUT>\n",
      "    Node Inventory\t<FILL ME OUT>\n",
      "    Software Version\t<FILL ME OUT>\n",
      "    \n"
     ]
    }
   ],
   "source": [
    "print(f'email alert: {email_alert}')"
   ]
  },
  {
   "cell_type": "code",
   "execution_count": 43,
   "id": "ea793f74-1cb2-498f-8bb9-4bd275633fd8",
   "metadata": {},
   "outputs": [
    {
     "name": "stdout",
     "output_type": "stream",
     "text": [
      "Changes found!! Scanning for unhealthy objects.\n",
      "ALERT!! UNHEALTHY NODE FOUND.\n",
      "ALERT!! UNHEALTHY DRIVE FOUND.\n",
      "alert data: {'Event 1': {'id': 2, 'node_status': 'offline', 'node_name': 'CoffeeTime-2', 'uuid': 'cbdea0e3-1659-48af-b15b-e97dbbeefd04', 'model_number': 'QVIRT', 'serial_number': 'QVIRT'}, 'Event 2': {'id': '2.2', 'node_id': 2, 'slot': 2, 'state': 'unhealthy', 'slot_type': 'SSD', 'disk_type': 'SSD', 'disk_model': 'Virtual_disk', 'disk_serial_number': '', 'capacity': '10467934208'}}\n"
     ]
    }
   ],
   "source": [
    "rest_client = cluster_login(API_HOSTNAME, API_USERNAME, API_PASSWORD)\n",
    "qq_version = get_qq_version(rest_client)\n",
    "status_of_nodes = retrieve_status_of_cluster_nodes(rest_client)\n",
    "status_of_drives = retrieve_status_of_cluster_drives(rest_client)\n",
    "cluster_status = combine_statuses_formatting(status_of_nodes, status_of_drives)\n",
    "previous_existed = check_for_previous_state(cluster_status)\n",
    "\n",
    "if previous_existed:\n",
    "    changes = compare_states()\n",
    "    if changes:\n",
    "        alert_data, healthy = check_for_unhealthy_objects()        \n",
    "else:\n",
    "    alert_data, healthy = check_for_unhealthy_objects()\n",
    "\n",
    "if not healthy:\n",
    "    email_alert = generate_alert_email(alert_data, rest_client)\n",
    "    email_recipients = get_email_recipients()\n",
    "    send_email(email_alert, email_recipients)\n",
    "else:\n",
    "    print('New unhealthy objects were NOT found. Closing script') # XXX: Remove after testing\n",
    "    # XXX: Add script close logic?"
   ]
  },
  {
   "cell_type": "code",
   "execution_count": 79,
   "id": "396695a6-bc9a-4487-b233-839474344dd2",
   "metadata": {},
   "outputs": [
    {
     "data": {
      "text/plain": [
       "{'node_id': 1,\n",
       " 'state': 'ACTIVE',\n",
       " 'cluster_id': 'cf83e828-7ef7-4368-a75b-3b972d10f2c6'}"
      ]
     },
     "execution_count": 79,
     "metadata": {},
     "output_type": "execute_result"
    }
   ],
   "source": [
    "rest_client.node_state.get_node_state()['cluster_id']"
   ]
  },
  {
   "cell_type": "code",
   "execution_count": 77,
   "id": "c8f49a8b-583a-456e-8b5a-3a2ede0bd70a",
   "metadata": {},
   "outputs": [
    {
     "name": "stdout",
     "output_type": "stream",
     "text": [
      "Help on RestModule in module qumulo.rest_client object:\n",
      "\n",
      "class RestModule(builtins.object)\n",
      " |  Methods defined here:\n",
      " |  \n",
      " |  __init__(self, client)\n",
      " |  \n",
      " |  get_node_state(conninfo, credentials)\n",
      " |  \n",
      " |  ----------------------------------------------------------------------\n",
      " |  Data descriptors defined here:\n",
      " |  \n",
      " |  __dict__\n",
      " |      dictionary for instance variables (if defined)\n",
      " |  \n",
      " |  __weakref__\n",
      " |      list of weak references to the object (if defined)\n",
      "\n"
     ]
    }
   ],
   "source": [
    "help(rest_client.node_state)"
   ]
  },
  {
   "cell_type": "code",
   "execution_count": 97,
   "id": "af7fc6ff-0b26-4ef5-9525-ac8d9228a3c3",
   "metadata": {},
   "outputs": [],
   "source": [
    "description='This script will generate email alerts when run based \\\n",
    "            on the configuration passed through in --config. This \\\n",
    "            script requires the Qumulo API Tools which can be \\\n",
    "            downloaded using pip or from the cluster itself.'"
   ]
  },
  {
   "cell_type": "code",
   "execution_count": 99,
   "id": "2108efa7-8e96-4ad2-9ff9-2480186a9746",
   "metadata": {},
   "outputs": [
    {
     "name": "stdout",
     "output_type": "stream",
     "text": [
      "This script will generate email alerts when run based             on the configuration passed through in --config. This             script requires the Qumulo API Tools which can be             downloaded using pip or from the cluster itself.\n"
     ]
    }
   ],
   "source": [
    "print(description"
   ]
  },
  {
   "cell_type": "code",
   "execution_count": 102,
   "id": "f560c84a-03e7-4908-ad54-2c3a4a2b6b24",
   "metadata": {},
   "outputs": [],
   "source": [
    "thisthing = {\n",
    "    \"cluster_settings\": {\n",
    "        \"cluster_address\": \"10.120.0.34\",\n",
    "        \"username\": \"admin\",\n",
    "        \"password\": \"Admin123\",\n",
    "        \"rest_port\": 8000,\n",
    "    },\n",
    "    \"email_settings\": {\n",
    "        \"mail_to\": [\"rthompson@qumulo.com\",\"rossthompson89@gmail.com\"],\n",
    "    },\n",
    "}"
   ]
  },
  {
   "cell_type": "code",
   "execution_count": 108,
   "id": "6fa0c347-f54d-4ccb-8cf1-1c6bb729307e",
   "metadata": {},
   "outputs": [
    {
     "data": {
      "text/plain": [
       "['rthompson@qumulo.com', 'rossthompson89@gmail.com']"
      ]
     },
     "execution_count": 108,
     "metadata": {},
     "output_type": "execute_result"
    }
   ],
   "source": [
    "thisthing['email_settings']['mail_to']"
   ]
  },
  {
   "cell_type": "code",
   "execution_count": 105,
   "id": "b77def73-86ac-42f4-9671-afa60e010e4b",
   "metadata": {},
   "outputs": [],
   "source": [
    "email_recipients = []\n",
    "\n",
    "for email in thisthing['email_settings']['mail_to']:\n",
    "    email_recipients += email"
   ]
  },
  {
   "cell_type": "code",
   "execution_count": 106,
   "id": "af86d13d-8118-46a5-a091-59bbe936a49f",
   "metadata": {},
   "outputs": [
    {
     "data": {
      "text/plain": [
       "['r',\n",
       " 't',\n",
       " 'h',\n",
       " 'o',\n",
       " 'm',\n",
       " 'p',\n",
       " 's',\n",
       " 'o',\n",
       " 'n',\n",
       " '@',\n",
       " 'q',\n",
       " 'u',\n",
       " 'm',\n",
       " 'u',\n",
       " 'l',\n",
       " 'o',\n",
       " '.',\n",
       " 'c',\n",
       " 'o',\n",
       " 'm',\n",
       " 'r',\n",
       " 'o',\n",
       " 's',\n",
       " 's',\n",
       " 't',\n",
       " 'h',\n",
       " 'o',\n",
       " 'm',\n",
       " 'p',\n",
       " 's',\n",
       " 'o',\n",
       " 'n',\n",
       " '8',\n",
       " '9',\n",
       " '@',\n",
       " 'g',\n",
       " 'm',\n",
       " 'a',\n",
       " 'i',\n",
       " 'l',\n",
       " '.',\n",
       " 'c',\n",
       " 'o',\n",
       " 'm']"
      ]
     },
     "execution_count": 106,
     "metadata": {},
     "output_type": "execute_result"
    }
   ],
   "source": [
    "email_recipients"
   ]
  },
  {
   "cell_type": "code",
   "execution_count": null,
   "id": "dcd3cca4-80b1-4ca8-987c-2526281bfb82",
   "metadata": {},
   "outputs": [],
   "source": []
  }
 ],
 "metadata": {
  "kernelspec": {
   "display_name": "Python 3",
   "language": "python",
   "name": "python3"
  },
  "language_info": {
   "codemirror_mode": {
    "name": "ipython",
    "version": 3
   },
   "file_extension": ".py",
   "mimetype": "text/x-python",
   "name": "python",
   "nbconvert_exporter": "python",
   "pygments_lexer": "ipython3",
   "version": "3.6.9"
  }
 },
 "nbformat": 4,
 "nbformat_minor": 5
}
