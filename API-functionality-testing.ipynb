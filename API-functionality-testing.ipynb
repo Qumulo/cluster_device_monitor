{
 "cells": [
  {
   "cell_type": "code",
   "execution_count": 47,
   "id": "a6e81cac-4c55-499a-8dab-a75bc5e902c2",
   "metadata": {},
   "outputs": [],
   "source": [
    "import argparse\n",
    "import json\n",
    "import os\n",
    "import smtplib\n",
    "import sys\n",
    "import time\n",
    "from datetime import datetime\n",
    "from email.mime.text import MIMEText\n",
    "import qumulo\n",
    "from qumulo.rest_client import RestClient\n",
    "from qumulo.lib.request import RequestError"
   ]
  },
  {
   "cell_type": "code",
   "execution_count": 2,
   "id": "4649714f-c569-473b-b821-0482000b0e9b",
   "metadata": {},
   "outputs": [],
   "source": [
    "#  _   _ _____ _     ____  _____ ____  ____\n",
    "# | | | | ____| |   |  _ \\| ____|  _ \\/ ___|\n",
    "# | |_| |  _| | |   | |_) |  _| | |_) \\___ \\\n",
    "# |  _  | |___| |___|  __/| |___|  _ < ___) |\n",
    "# |_| |_|_____|_____|_|   |_____|_| \\_\\____/\n",
    "\n",
    "def load_json(file: str):\n",
    "    \"\"\"\n",
    "    Load a file and ensure that it's valid JSON.\n",
    "    \"\"\"\n",
    "    try:\n",
    "        file_fh = open(file, 'r')\n",
    "        data = json.load(file_fh)\n",
    "        return data\n",
    "    except ValueError as error:\n",
    "        sys.exit(f'Invalid JSON file: {file}. Error: {error}')\n",
    "    finally:\n",
    "        file_fh.close()\n",
    "\n",
    "def load_config(config_file: str):\n",
    "    \"\"\"\n",
    "    Load json as json dictionary-like object for parsing.\n",
    "    \"\"\"    \n",
    "    if os.path.exists(config_file):\n",
    "        return load_json(config_file)\n",
    "    else:\n",
    "        sys.exit(f'Configuration file \"{config_file}\" does not exist.')"
   ]
  },
  {
   "cell_type": "code",
   "execution_count": 3,
   "id": "5fe2bc7b-419b-4808-9bb6-828f4bd71f79",
   "metadata": {},
   "outputs": [],
   "source": [
    "#   ___                           _    ____ ___ \n",
    "#  / _ \\ _   _  ___ _ __ _   _   / \\  |  _ \\_ _|\n",
    "# | | | | | | |/ _ \\ '__| | | | / _ \\ | |_) | | \n",
    "# | |_| | |_| |  __/ |  | |_| |/ ___ \\|  __/| | \n",
    "#  \\__\\_\\\\__,_|\\___|_|   \\__, /_/   \\_\\_|  |___|\n",
    "#                        |___/                  \n",
    "\n",
    "def cluster_login(api_hostname, api_username, api_password):\n",
    "    \"\"\"\n",
    "    Accept api_hostname, api_username and api_password as parameters. Log into\n",
    "    cluster via Qumulo Rest API. Return rest_client for all future API calls.\n",
    "    \"\"\"\n",
    "    rest_client = RestClient(api_hostname, 8000)\n",
    "    rest_client.login(api_username, api_password)\n",
    "\n",
    "    return rest_client\n",
    "\n",
    "def get_cluster_name(rest_client):\n",
    "    \"\"\"\n",
    "    Query API for cluster name. Return cluster name as string.\n",
    "    \"\"\"\n",
    "    cluster_name = rest_client.cluster.get_cluster_conf()['cluster_name']\n",
    "\n",
    "    return cluster_name\n",
    "\n",
    "def get_qq_version(rest_client):\n",
    "    \"\"\"\n",
    "    Query API for Qumulo Core version. Return version as string.\n",
    "    \"\"\"\n",
    "\n",
    "    qq_version = rest_client.version.version()['revision_id']\n",
    "\n",
    "    return qq_version\n",
    "\n",
    "def get_cluster_time(rest_client):\n",
    "    \"\"\"\n",
    "    Get current cluster time and return as cluster_time.\n",
    "    \"\"\"\n",
    "    \n",
    "    cluster_time = rest_client.time_config.get_time_status()['time']\n",
    "    \n",
    "    return cluster_time\n",
    "\n",
    "def get_cluser_uuid(rest_client):\n",
    "    \"\"\"\n",
    "    Query API for cluster UUID number. Return UUID as string.\n",
    "    \"\"\"\n",
    "    cluster_uuid = rest_client.node_state.get_node_state()['cluster_id']\n",
    "    \n",
    "    return cluster_uuid\n",
    "\n",
    "def retrieve_status_of_cluster_nodes(rest_client):\n",
    "    \"\"\"\n",
    "    Accept rest_client object to query via API call to retrieve info/status for\n",
    "    nodes. Parse through information and record relevant information. Return\n",
    "    dict object to later dump as json.\n",
    "    \"\"\"\n",
    "    node_relevant_fields = [\n",
    "        'id',\n",
    "        'node_status',\n",
    "        'node_name',\n",
    "        'uuid',\n",
    "        'model_number',\n",
    "        'serial_number',\n",
    "    ]\n",
    "\n",
    "    temp_list = []\n",
    "    for num in range(len(rest_client.cluster.list_nodes())):\n",
    "        new_dict = {}\n",
    "        for k,v in rest_client.cluster.list_nodes()[num].items():\n",
    "            if k in node_relevant_fields:\n",
    "                new_dict[k] = v\n",
    "        temp_list.append(new_dict)\n",
    "    \n",
    "    status_of_nodes = {}\n",
    "    status_of_nodes['nodes'] = temp_list\n",
    "\n",
    "    return status_of_nodes\n",
    "\n",
    "def retrieve_status_of_cluster_drives(rest_client):\n",
    "    \"\"\"\n",
    "    Accept rest_client object to query via API call to retrieve info/status for\n",
    "    drives. Parse through information and record relevant information. Return\n",
    "    dict object to later dump as json.\n",
    "    \"\"\"\n",
    "    drive_relevant_fields = [\n",
    "        'id',\n",
    "        'node_id',\n",
    "        'slot',\n",
    "        'state',\n",
    "        'slot_type',\n",
    "        'disk_type',\n",
    "        'disk_model',\n",
    "        'disk_serial_number',\n",
    "        'capacity',\n",
    "    ]\n",
    "\n",
    "    temp_list = []\n",
    "    for num in range(len(rest_client.cluster.get_cluster_slots_status())):\n",
    "        new_dict = {}\n",
    "        for k,v in rest_client.cluster.get_cluster_slots_status()[num].items():\n",
    "            if k in drive_relevant_fields:\n",
    "                new_dict[k] = v\n",
    "        temp_list.append(new_dict)\n",
    "\n",
    "    status_of_drives = {}\n",
    "    status_of_drives['drives'] = temp_list\n",
    "\n",
    "    return status_of_drives\n",
    "\n",
    "def combine_statuses_formatting(status_of_nodes, status_of_drives):\n",
    "    \"\"\"\n",
    "    In order to adhere to proper json formatting, this func will combine the\n",
    "    two status_of_nodes and status_of_drives dictionary objects into one\n",
    "    single dictionary object and return this as cluster_status.\n",
    "    \"\"\"\n",
    "    status_of_nodes['drives'] = status_of_drives['drives']    \n",
    "    cluster_status = status_of_nodes\n",
    "    \n",
    "    return cluster_status"
   ]
  },
  {
   "cell_type": "code",
   "execution_count": 4,
   "id": "8dcdcafc-65a4-475f-8ae5-ac768e1c7050",
   "metadata": {},
   "outputs": [],
   "source": [
    "# rest_client = cluster_login(API_HOSTNAME, API_USERNAME, API_PASSWORD)"
   ]
  },
  {
   "cell_type": "code",
   "execution_count": 5,
   "id": "8283ef8d-e746-4ff5-aea8-0c278e57469b",
   "metadata": {},
   "outputs": [],
   "source": [
    "# rest_client.ad.list_ad()"
   ]
  },
  {
   "cell_type": "code",
   "execution_count": 6,
   "id": "7a77b21c-f79a-4752-a37e-703325bdc764",
   "metadata": {},
   "outputs": [],
   "source": [
    "# rest_client.cluster.list_nodes()"
   ]
  },
  {
   "cell_type": "code",
   "execution_count": 7,
   "id": "3d73cd90-9767-4583-b1b6-af2740642fd4",
   "metadata": {},
   "outputs": [],
   "source": [
    "# rest_client.cluster.list_nodes()[0]['node_status']"
   ]
  },
  {
   "cell_type": "code",
   "execution_count": 8,
   "id": "d2161a79-9d62-42a7-a066-1b2ea5bac95b",
   "metadata": {},
   "outputs": [],
   "source": [
    "# rest_client.node_state.get_node_state()"
   ]
  },
  {
   "cell_type": "code",
   "execution_count": 9,
   "id": "df575f67-b525-4081-9b12-252f899644cf",
   "metadata": {},
   "outputs": [],
   "source": [
    "# rest_client.cluster.get_cluster_slots_status()"
   ]
  },
  {
   "cell_type": "code",
   "execution_count": 10,
   "id": "913e8bf1-2242-402b-84eb-5f1b83d297dc",
   "metadata": {},
   "outputs": [],
   "source": [
    "# if 'cluster_state.json' in os.listdir():\n",
    "#     os.rename('cluster_state.json','cluster_state_previous.json')\n",
    "#     PREVIOUS_EXISTED = True\n",
    "\n",
    "# with open('cluster_state.json', 'w') as f:\n",
    "#     for data in rest_client.cluster.list_nodes():\n",
    "#         f.writelines(data)"
   ]
  },
  {
   "cell_type": "code",
   "execution_count": 11,
   "id": "05193dff-f614-4ae5-baca-51cfc9cb373d",
   "metadata": {},
   "outputs": [],
   "source": [
    "# for item in rest_client.cluster.list_nodes():\n",
    "#     print(item)"
   ]
  },
  {
   "cell_type": "code",
   "execution_count": 12,
   "id": "8c6f1804-c7da-4200-82dc-6c62c40fde1a",
   "metadata": {},
   "outputs": [],
   "source": [
    "# rest_client.cluster.list_nodes()[:2]"
   ]
  },
  {
   "cell_type": "code",
   "execution_count": 13,
   "id": "8e6866b5-4373-44e1-9ca7-118c7283f22a",
   "metadata": {},
   "outputs": [],
   "source": [
    "# rest_client.cluster.list_nodes()[0]"
   ]
  },
  {
   "cell_type": "code",
   "execution_count": 14,
   "id": "d3e55144-8b89-4d0c-9dd9-83d9f2453dba",
   "metadata": {},
   "outputs": [],
   "source": [
    "# node_relevant_fields = ['id','node_status','node_name','uuid','model_number','serial_number']\n",
    "# drive_relevant_fields = ['id','node_id','slot','state','slot_type','disk_type','disk_model','disk_serial_number','capacity']"
   ]
  },
  {
   "cell_type": "code",
   "execution_count": 15,
   "id": "3f4be7c7-111a-4a56-b4c9-8af24c735d5d",
   "metadata": {},
   "outputs": [],
   "source": [
    "# newlist = []\n",
    "# for entry in range(len(rest_client.cluster.list_nodes())):\n",
    "#     newdict = {}\n",
    "#     for k,v in rest_client.cluster.list_nodes()[entry].items():\n",
    "#         if k in node_relevant_fields:\n",
    "#             newdict[k] = v\n",
    "#     newlist.append(newdict)"
   ]
  },
  {
   "cell_type": "code",
   "execution_count": 16,
   "id": "8b8053b0-330d-482a-83e9-a7dda1a2db69",
   "metadata": {},
   "outputs": [],
   "source": [
    "# for entry in range(len(rest_client.cluster.list_nodes())):\n",
    "#     print(entry)"
   ]
  },
  {
   "cell_type": "code",
   "execution_count": 17,
   "id": "0b423131-d514-4d14-ac67-8d53717b6a07",
   "metadata": {},
   "outputs": [],
   "source": [
    "# rest_client.cluster.list_nodes()[1].items()"
   ]
  },
  {
   "cell_type": "code",
   "execution_count": 18,
   "id": "4b5d53ba-514a-460d-9d21-c0f653eef1e3",
   "metadata": {},
   "outputs": [],
   "source": [
    "# status_of_nodes = retrieve_status_of_cluster_nodes(rest_client)\n",
    "# status_of_nodes"
   ]
  },
  {
   "cell_type": "code",
   "execution_count": 19,
   "id": "60823668-59fb-4e62-ac87-2d8917346f9b",
   "metadata": {},
   "outputs": [],
   "source": [
    "# status_of_drives = retrieve_status_of_cluster_drives(rest_client)\n",
    "# status_of_drives"
   ]
  },
  {
   "cell_type": "code",
   "execution_count": 20,
   "id": "c9e89cce-bfce-48eb-b165-61c43e823413",
   "metadata": {},
   "outputs": [],
   "source": [
    "#   ____                                     ____  _        _            \n",
    "#  / ___|___  _ __ ___  _ __   __ _ _ __ ___/ ___|| |_ __ _| |_ ___  ___ \n",
    "# | |   / _ \\| '_ ` _ \\| '_ \\ / _` | '__/ _ \\___ \\| __/ _` | __/ _ \\/ __|\n",
    "# | |__| (_) | | | | | | |_) | (_| | | |  __/___) | || (_| | ||  __/\\__ \\\n",
    "#  \\____\\___/|_| |_| |_| .__/ \\__,_|_|  \\___|____/ \\__\\__,_|\\__\\___||___/\n",
    "#                      |_|                                               \n",
    "\n",
    "def check_for_previous_state(cluster_status):\n",
    "    \"\"\"\n",
    "    If cluster_state.json exists, rename it to cluster_state_previous.json.\n",
    "    Regardless of this, also create cluster_state.json and write node + drive\n",
    "    statuses to file. Return boolean for previous_existed.\n",
    "    \"\"\"\n",
    "    if 'cluster_state.json' in os.listdir():\n",
    "        os.rename('cluster_state.json','cluster_state_previous.json')\n",
    "        previous_existed = True\n",
    "    else:\n",
    "        previous_existed = False\n",
    "\n",
    "    with open('cluster_state.json', 'w') as f:\n",
    "        json.dump(cluster_status, f, indent=4)\n",
    "\n",
    "    return previous_existed\n",
    "\n",
    "def compare_states():\n",
    "    \"\"\"\n",
    "    Only being ran if previous_existed is true, this func will compare the\n",
    "    json files for the previous and current cluster state. Return bool for\n",
    "    whether or not the data has changed. Return bool for if changes were found.\n",
    "    \"\"\"    \n",
    "\n",
    "    file1 = 'cluster_state.json'\n",
    "    file2 = 'cluster_state_previous.json'\n",
    "\n",
    "    with open(file1) as f1, open(file2) as f2:\n",
    "        data1, data2 = json.load(f1), json.load(f2)\n",
    "        changes = data1 == data2\n",
    "\n",
    "    # XXX: can potentially remove all of this\n",
    "    if changes:\n",
    "        print('Changes found!! Scanning for unhealthy objects.') # XXX: Later remove\n",
    "    else:\n",
    "        print('Changes not found! Not scanning for unhealthy objects') # XXX: Later remove\n",
    "\n",
    "    return changes\n",
    "\n",
    "def check_for_unhealthy_objects():\n",
    "    \"\"\" \n",
    "    Scan the cluster_state.json file to determine whether or not there are \n",
    "    unhealthy objects. If there are unhealthy objects, append the data to\n",
    "    new dict object called alert_data, which will later be used to populate\n",
    "    the alert. Also return whether or not cluster is healthy as bool. \n",
    "    \"\"\"\n",
    "    healthy = True\n",
    "\n",
    "    with open('cluster_state_TEST.json') as f:  # XXX: Later change value to 'cluster_state.json'\n",
    "        data = json.load(f)\n",
    "        alert_data = {}\n",
    "        counter = 1\n",
    "        \n",
    "        # scan through json for offline nodes\n",
    "        for dictobj in data['nodes']:\n",
    "            for k,v in dictobj.items():\n",
    "                if k == 'node_status':\n",
    "                    if v != 'online':\n",
    "                        print('ALERT!! UNHEALTHY NODE FOUND.') # XXX: Later remove\n",
    "                        alert_data[f'Event {counter}'] = dictobj\n",
    "                        counter += 1\n",
    "                        healthy = False\n",
    "        # scan through json for unhealthy drives\n",
    "        for dictobj in data['drives']:\n",
    "            for k,v in dictobj.items():\n",
    "                if k == 'state':\n",
    "                    if v != 'healthy':\n",
    "                        print('ALERT!! UNHEALTHY DRIVE FOUND.') # XXX: Later remove \n",
    "                        alert_data[f'Event {counter}'] = dictobj\n",
    "                        counter += 1\n",
    "                        healthy = False\n",
    "            \n",
    "    if healthy:\n",
    "        print('No unhealthy changes found.')\n",
    "\n",
    "    # print(f'alert data: {alert_data}') # XXX: later remove\n",
    "\n",
    "    return alert_data, healthy"
   ]
  },
  {
   "cell_type": "code",
   "execution_count": null,
   "id": "e86c946b-9ddf-4f10-a020-ad996b8dd8d1",
   "metadata": {},
   "outputs": [],
   "source": []
  },
  {
   "cell_type": "code",
   "execution_count": 21,
   "id": "994e7318-62ee-470f-a731-98dffd52056b",
   "metadata": {},
   "outputs": [],
   "source": [
    "# alert_data, healthy = check_for_unhealthy_objects()"
   ]
  },
  {
   "cell_type": "code",
   "execution_count": 22,
   "id": "03313f21-67d5-4d49-86e3-577eade0c4c7",
   "metadata": {},
   "outputs": [],
   "source": [
    "# json1 = json.dumps('cluster_state.json', sort_keys=True)\n",
    "# json2 = json.dumps('cluster_state_TEST.json', sort_keys=True)\n",
    "# print(f'comparison: {json1 != json2}')"
   ]
  },
  {
   "cell_type": "code",
   "execution_count": 23,
   "id": "4ebe6edb-8950-4d20-b2b8-b5cf394dd3a6",
   "metadata": {},
   "outputs": [],
   "source": [
    "# with open('cluster_state.json') as f1, open('cluster_state_TEST.json') as f2:\n",
    "#     data1 = json.load(f1)\n",
    "#     data2 = json.load(f2)\n",
    "#     something = data1 == data2\n",
    "#     print(something)"
   ]
  },
  {
   "cell_type": "code",
   "execution_count": 24,
   "id": "7b672f5a-0abf-438b-a8a5-061de50e8251",
   "metadata": {
    "tags": []
   },
   "outputs": [],
   "source": [
    "# node_event = 'A node has gone offline.'\n",
    "\n",
    "# for item in alert_data:\n",
    "#     for k,v in alert_data[item].items():\n",
    "#         if k == 'node_status':\n",
    "#             print(node_event)"
   ]
  },
  {
   "cell_type": "code",
   "execution_count": 25,
   "id": "28baf5ab-d46c-4caf-85d1-cbf17d6c84d6",
   "metadata": {},
   "outputs": [],
   "source": [
    "# rest_client.cluster.list_node(2)['uuid']"
   ]
  },
  {
   "cell_type": "code",
   "execution_count": 26,
   "id": "0e2f1e3b-9dfd-42ad-ba4a-159fa5a950a1",
   "metadata": {},
   "outputs": [],
   "source": [
    "# for val in alert_data['Event 2'].items():\n",
    "#     print(val)"
   ]
  },
  {
   "cell_type": "code",
   "execution_count": 27,
   "id": "27e32287-0cf0-4c5a-8280-069877d676c1",
   "metadata": {},
   "outputs": [],
   "source": [
    "# qq_version = get_qq_version(rest_client)\n",
    "# cluster_name = get_cluster_name(rest_client)\n",
    "# cluser_uuid = get_cluser_uuid(rest_client)\n",
    "# cluster_time = get_cluster_time(rest_client)\n",
    "# alert_header = '=' * 18 + ' CLUSTER EVENT ALERT! ' + '=' * 18\n",
    "# email_alert = f\"\"\"{alert_header}\\nUnhealthy object(s) found. See below for info\n",
    "# and engage Qumulo Support in your preferred fashion.\n",
    "\n",
    "# Cluster name: {cluster_name}\n",
    "# Cluster UUID: {cluster_uuid}\n",
    "# Approx. time: {cluster_time}\n",
    "\n",
    "# Event(s) found:\n",
    "# \"\"\"\n",
    "\n",
    "# node_event_heading = '=' * 15 + ' A node has gone offline. ' + '=' * 15\n",
    "# drive_event_heading = '=' * 15 + ' A drive is no longer healthy. ' + '=' * 15\n",
    "\n",
    "# for item in alert_data:\n",
    "#     for k,v in alert_data[item].items():\n",
    "#         if k == 'node_status':    # this is a node alert\n",
    "#             email_alert += node_event_heading\n",
    "#             node_alert_text = f\"\"\"\n",
    "#             Node number: {alert_data[item]['id']}\n",
    "#             Node status: {alert_data[item]['node_status']}\n",
    "#             Serial Number: {alert_data[item]['serial_number']}\n",
    "#             Node UUID: {alert_data[item]['uuid']}           \n",
    "#             Node Type: {alert_data[item]['model_number']}\n",
    "#             Qumulo Core Version: {qq_version}\n",
    "#             \"\"\"\n",
    "\n",
    "#             email_alert += node_alert_text + '\\n'\n",
    "\n",
    "#         elif k == 'disk_type':    # this is a drive alert\n",
    "#             email_alert += drive_event_heading\n",
    "#             drive_alert_text = f\"\"\"\n",
    "#             Node number: {alert_data[item]['node_id']}\n",
    "#             Drive slot: {alert_data[item]['slot']}\n",
    "#             Drive status: {alert_data[item]['state']}\n",
    "#             Slot type: {alert_data[item]['slot_type']}\n",
    "#             Disk type: {alert_data[item]['disk_type']}\n",
    "#             Disk model: {alert_data[item]['disk_model']}\n",
    "#             Disk serial number: {alert_data[item]['disk_serial_number']}\n",
    "#             Disk capacity: {alert_data[item]['capacity']}\n",
    "#             \"\"\"\n",
    "\n",
    "#             email_alert += drive_alert_text + '\\n'\n",
    "\n",
    "# print(email_alert)"
   ]
  },
  {
   "cell_type": "code",
   "execution_count": 28,
   "id": "31955a4d-8b1a-4089-b7c6-b4ac662efb0c",
   "metadata": {},
   "outputs": [],
   "source": [
    "#  _____                 _ _ _   _                 _ _ _\n",
    "# | ____|_ __ ___   __ _(_) | | | | __ _ _ __   __| | (_)_ __   __ _\n",
    "# |  _| | '_ ` _ \\ / _` | | | |_| |/ _` | '_ \\ / _` | | | '_ \\ / _` |\n",
    "# | |___| | | | | | (_| | | |  _  | (_| | | | | (_| | | | | | | (_| |\n",
    "# |_____|_| |_| |_|\\__,_|_|_|_| |_|\\__,_|_| |_|\\__,_|_|_|_| |_|\\__, |\n",
    "#                                                              |___/\n",
    "\n",
    "def generate_alert_email(alert_data, rest_client):\n",
    "    \"\"\"\n",
    "    Generate email alert and return as string\n",
    "    \"\"\"\n",
    "\n",
    "    qq_version = get_qq_version(rest_client)\n",
    "    cluster_name = get_cluster_name(rest_client)\n",
    "    cluster_uuid = get_cluser_uuid(rest_client)\n",
    "    cluster_time = get_cluster_time(rest_client)\n",
    "    \n",
    "    counter = 0\n",
    "    for objs in alert_data:\n",
    "        counter += 1\n",
    "    alert_header = '=' * 19 + ' CLUSTER EVENT ALERT! ' + '=' * 19\n",
    "    email_alert = f\"\"\"{alert_header}\\nUnhealthy object(s) found. See below for\\\n",
    "info and engage Qumulo Support in your preferred fashion.\n",
    "\n",
    "Cluster name: {cluster_name}\n",
    "Cluster UUID: {cluster_uuid}\n",
    "Approx. time: {cluster_time} UTC\n",
    "\n",
    "{counter} Event(s) found:\\n\\n\"\"\"\n",
    "\n",
    "    node_event_heading = '=' * 23 + ' NODE OFFLINE ' + '=' * 23\n",
    "    drive_event_heading = '=' * 21 + ' DRIVE UNHEALTHY ' + '=' * 22\n",
    "\n",
    "    for item in alert_data:\n",
    "        for k,v in alert_data[item].items():\n",
    "            if k == 'node_status':    # this is a node alert\n",
    "                email_alert += node_event_heading\n",
    "                node_alert_text = f\"\"\"\n",
    "Node number: {alert_data[item]['id']}\n",
    "Node status: {alert_data[item]['node_status']}\n",
    "Serial Number: {alert_data[item]['serial_number']}\n",
    "Node UUID: {alert_data[item]['uuid']}           \n",
    "Node Type: {alert_data[item]['model_number']}\n",
    "Qumulo Core Version: {qq_version}\"\"\"\n",
    "\n",
    "                email_alert += node_alert_text + '\\n\\n'\n",
    "\n",
    "            elif k == 'disk_type':    # this is a drive alert\n",
    "                email_alert += drive_event_heading\n",
    "                drive_alert_text = f\"\"\"\n",
    "Node number: {alert_data[item]['node_id']}\n",
    "Drive slot: {alert_data[item]['slot']}\n",
    "Drive status: {alert_data[item]['state']}\n",
    "Slot type: {alert_data[item]['slot_type']}\n",
    "Disk type: {alert_data[item]['disk_type']}\n",
    "Disk model: {alert_data[item]['disk_model']}\n",
    "Disk serial number: {alert_data[item]['disk_serial_number']}\n",
    "Disk capacity: {alert_data[item]['capacity']}\"\"\"\n",
    "\n",
    "                email_alert += drive_alert_text + '\\n'\n",
    "    \n",
    "    email_alert = email_alert.replace('\\n', '<br>')\n",
    "    \n",
    "    return email_alert\n",
    "\n",
    "def get_email_settings(config):\n",
    "    \"\"\"\n",
    "    Pull various email settings from config file.\n",
    "    \"\"\"\n",
    "    sender_addr = config['email_settings']['sender_address']\n",
    "    server_addr = config['email_settings']['server_address']\n",
    "\n",
    "    email_recipients = []\n",
    "    for email_addr in config['email_settings']['mail_to']:\n",
    "        email_recipients.append(email_addr)\n",
    "\n",
    "    return sender_addr, server_addr, email_recipients\n",
    "\n",
    "def send_email(config, email_alert):\n",
    "    \"\"\"\n",
    "    Send an email populated with alert information to all email addresses in\n",
    "    receipients list specified in config.py.\n",
    "    \"\"\"\n",
    "    sender_addr, server_addr, email_recipients = get_email_settings(config)\n",
    "    clustername = config['cluster_settings']['cluster_name']\n",
    "    subject = f'Event alert for cluster: {clustername}'\n",
    "        \n",
    "    # Compose the email to be sent based off received data.\n",
    "    mmsg = MIMEText(email_alert, 'html')\n",
    "    mmsg['Subject'] = subject\n",
    "    mmsg['From'] = sender_addr\n",
    "    mmsg['To'] = ', '.join(email_recipients)\n",
    "\n",
    "    session = smtplib.SMTP(server_addr)\n",
    "    session.sendmail(sender_addr, email_recipients, mmsg.as_string())\n",
    "    session.quit()"
   ]
  },
  {
   "cell_type": "code",
   "execution_count": 54,
   "id": "ea793f74-1cb2-498f-8bb9-4bd275633fd8",
   "metadata": {},
   "outputs": [],
   "source": [
    "#  __  __       _\n",
    "# |  \\/  | __ _(_)_ __ \n",
    "# | |\\/| |/ _` | | '_ \\\n",
    "# | |  | | (_| | | | | |\n",
    "# |_|  |_|\\__,_|_|_| |_|\n",
    "\n",
    "\n",
    "def main():  \n",
    "    config = load_config('config.json')\n",
    "    API_HOSTNAME = config['cluster_settings']['cluster_address']\n",
    "    API_USERNAME = config['cluster_settings']['username']\n",
    "    API_PASSWORD = config['cluster_settings']['password']\n",
    "    rest_client = cluster_login(API_HOSTNAME, API_USERNAME, API_PASSWORD)\n",
    "#     status_of_nodes = retrieve_status_of_cluster_nodes(rest_client)\n",
    "#     status_of_drives = retrieve_status_of_cluster_drives(rest_client)\n",
    "#     cluster_status = combine_statuses_formatting(status_of_nodes, status_of_drives)\n",
    "#     previous_existed = check_for_previous_state(cluster_status)\n",
    "\n",
    "#     if previous_existed:\n",
    "#         changes = compare_states()\n",
    "#         if changes:\n",
    "#             alert_data, healthy = check_for_unhealthy_objects()        \n",
    "#     else:\n",
    "#         alert_data, healthy = check_for_unhealthy_objects()\n",
    "    \n",
    "#     if not healthy:\n",
    "#         email_alert = generate_alert_email(alert_data, rest_client)\n",
    "#         send_email(config, email_alert)\n",
    "#     else:\n",
    "#         print('New unhealthy objects were NOT found. Closing script') # XXX: Remove after testing\n",
    "    \n",
    "#     return 0"
   ]
  },
  {
   "cell_type": "code",
   "execution_count": 55,
   "id": "e5c13368-2aec-4422-af8b-b8a5c637d193",
   "metadata": {},
   "outputs": [],
   "source": [
    "# execute script:\n",
    "main()"
   ]
  },
  {
   "cell_type": "code",
   "execution_count": 56,
   "id": "1b35e96c-0438-489b-8bc8-d6683844f8a0",
   "metadata": {},
   "outputs": [
    {
     "name": "stdout",
     "output_type": "stream",
     "text": [
      "{'cluster_settings': {'cluster_address': '10.120.0.34', 'cluster_name': 'CoffeeTime', 'username': 'admin', 'password': 'Admin123', 'rest_port': 8000}, 'email_settings': {'sender_address': 'event_alerts@qumulo.com', 'server_address': 'mail.corp.qumulo.com', 'mail_to': ['rthompson@qumulo.com']}}\n"
     ]
    }
   ],
   "source": [
    "print(config)"
   ]
  },
  {
   "cell_type": "code",
   "execution_count": null,
   "id": "e24dee52-e50a-43b7-9e4b-27c97b1f6138",
   "metadata": {},
   "outputs": [],
   "source": [
    "# moar testing...."
   ]
  },
  {
   "cell_type": "code",
   "execution_count": 52,
   "id": "ba1eea2d-6ba3-4d21-8181-b89fcd2837fe",
   "metadata": {},
   "outputs": [],
   "source": [
    "def cluster_login(api_hostname, api_username, api_password):\n",
    "    \"\"\"\n",
    "    Accept api_hostname, api_username and api_password as parameters. Log into\n",
    "    cluster via Qumulo Rest API. Return rest_client for all future API calls.\n",
    "    \"\"\"\n",
    "    \n",
    "    try:\n",
    "        rest_client = RestClient(api_hostname, 8000)\n",
    "        rest_client.login(api_username, api_password)\n",
    "        return rest_client\n",
    "    except OSError as err1:\n",
    "        sys.exit(f'{err1}\\nExiting...')\n",
    "    except TimeoutError as err2:\n",
    "        sys.exit(f'{err2}\\nExiting...')\n",
    "    except RequestError as err3:\n",
    "        print('Invalid credentials. Please check config file & try again.')\n",
    "#         sys.exit('Exiting...')\n",
    "\n",
    "config = load_config('config.json')\n",
    "API_HOSTNAME = config['cluster_settings']['cluster_address']\n",
    "API_USERNAME = config['cluster_settings']['username']\n",
    "API_PASSWORD = config['cluster_settings']['password']\n",
    "rest_client = cluster_login(API_HOSTNAME, API_USERNAME, API_PASSWORD)"
   ]
  },
  {
   "cell_type": "code",
   "execution_count": 42,
   "id": "95acaf37-954e-489c-9364-db860d32292c",
   "metadata": {},
   "outputs": [
    {
     "name": "stdout",
     "output_type": "stream",
     "text": [
      "[Errno 60] Operation timed out \n",
      "Exiting...\n"
     ]
    }
   ],
   "source": [
    "try:\n",
    "    status_of_nodes = retrieve_status_of_cluster_nodes(rest_client)\n",
    "except TimeoutError as err2:\n",
    "    print(err2, '\\nExiting...')\n",
    "#     status_of_drives = retrieve_status_of_cluster_drives(rest_client)\n",
    "#     cluster_status = combine_statuses_formatting(status_of_nodes, status_of_drives)\n",
    "#     previous_existed = check_for_previous_state(cluster_status)"
   ]
  },
  {
   "cell_type": "code",
   "execution_count": 40,
   "id": "6e090a94-f62c-4743-a0ca-6fe315e6865b",
   "metadata": {},
   "outputs": [
    {
     "data": {
      "text/plain": [
       "{'nodes': [{'id': 1,\n",
       "   'node_status': 'online',\n",
       "   'node_name': 'CoffeeTime-1',\n",
       "   'uuid': '10a1c7aa-fb99-48a1-8dc3-b34b96777742',\n",
       "   'model_number': 'QVIRT',\n",
       "   'serial_number': 'QVIRT'},\n",
       "  {'id': 2,\n",
       "   'node_status': 'online',\n",
       "   'node_name': 'CoffeeTime-2',\n",
       "   'uuid': 'cbdea0e3-1659-48af-b15b-e97dbbeefd04',\n",
       "   'model_number': 'QVIRT',\n",
       "   'serial_number': 'QVIRT'},\n",
       "  {'id': 3,\n",
       "   'node_status': 'offline',\n",
       "   'node_name': 'CoffeeTime-3',\n",
       "   'uuid': '30cc2b34-93a0-4639-ae0b-ad57b4e5dc43',\n",
       "   'model_number': 'QVIRT',\n",
       "   'serial_number': ''},\n",
       "  {'id': 4,\n",
       "   'node_status': 'online',\n",
       "   'node_name': 'CoffeeTime-4',\n",
       "   'uuid': '8924daaa-fec3-49b2-9ee5-38352cabb8c3',\n",
       "   'model_number': 'QVIRT',\n",
       "   'serial_number': 'QVIRT'}]}"
      ]
     },
     "execution_count": 40,
     "metadata": {},
     "output_type": "execute_result"
    }
   ],
   "source": [
    "status_of_nodes"
   ]
  },
  {
   "cell_type": "code",
   "execution_count": null,
   "id": "7ea45ca3-36fb-4edd-926f-b5697b94689c",
   "metadata": {},
   "outputs": [],
   "source": [
    "file1 = 'cluster_state.json'\n",
    "file2 = 'cluster_state_previous.json'"
   ]
  },
  {
   "cell_type": "code",
   "execution_count": null,
   "id": "4f9bacba-dc6d-41ff-9fd0-87c6993c5093",
   "metadata": {},
   "outputs": [],
   "source": [
    "with open(file1) as f1, open(file2) as f2:\n",
    "    data1, data2 = json.load(f1), json.load(f2)\n",
    "    changes = data1 != data2"
   ]
  },
  {
   "cell_type": "code",
   "execution_count": null,
   "id": "aff3ab38-eb97-499e-a9fd-d6e4facf4c5f",
   "metadata": {},
   "outputs": [],
   "source": [
    "print(changes)"
   ]
  },
  {
   "cell_type": "code",
   "execution_count": null,
   "id": "aed492bc-5c0b-44e1-b7a9-8025c71ab7d7",
   "metadata": {},
   "outputs": [],
   "source": [
    "if changes:\n",
    "    print('Changes found!! Scanning for unhealthy objects.')\n",
    "else:\n",
    "    print('Changes not found! NOT scanning for unhealthy objects')"
   ]
  },
  {
   "cell_type": "code",
   "execution_count": null,
   "id": "23e8889b-a240-481b-a906-38144faef8cb",
   "metadata": {},
   "outputs": [],
   "source": [
    "def cluster_state_previous_file_cleanup():\n",
    "    \"\"\"\n",
    "    Delete cluster_state_previous.json if it exists after script run.\n",
    "    \"\"\"\n",
    "\n",
    "    if 'cluster_state_previous.json' in os.listdir():\n",
    "        os.remove('cluster_state_previous.json')"
   ]
  },
  {
   "cell_type": "code",
   "execution_count": null,
   "id": "713d7cb1-e85f-44e9-b04c-1e0048813249",
   "metadata": {},
   "outputs": [],
   "source": [
    "os.listdir()"
   ]
  },
  {
   "cell_type": "code",
   "execution_count": null,
   "id": "69081148-487f-48ba-9875-88fa62e97f61",
   "metadata": {},
   "outputs": [],
   "source": [
    "cluster_state_previous_file_cleanup()"
   ]
  },
  {
   "cell_type": "code",
   "execution_count": 57,
   "id": "61dc1901-05f9-4780-9698-9ed59b215185",
   "metadata": {},
   "outputs": [],
   "source": [
    "#Alan's stuff\n",
    "def get_current_state():\n",
    "    data = {}\n",
    "\n",
    "    with open('cluster_state.json') as f:\n",
    "        data = json.load(f)\n",
    "\n",
    "    return data\n",
    "\n",
    "\n",
    "def check_for_unhealthy_objects():\n",
    "    \"\"\"\n",
    "    Scan the cluster_state.json file to determine whether or not there are\n",
    "    unhealthy objects. If there are unhealthy objects, append the data to\n",
    "    new dict object called alert_data, which will later be used to populate\n",
    "    the alert. Also return whether or not cluster is healthy as bool.\n",
    "    \"\"\"\n",
    "    healthy = True\n",
    "\n",
    "    data = get_current_state()\n",
    "    nodes = data['nodes']\n",
    "\n",
    "    alert_data = {}\n",
    "    counter = 1\n",
    "\n",
    "    # scan through json for offline nodes\n",
    "    for node in nodes:\n",
    "        if 'online' not in node['node_status']:\n",
    "            print('ALERT!! UNHEALTHY NODE FOUND.')  # XXX: Later remove\n",
    "            alert_data[f'Event {counter}'] = node\n",
    "            counter += 1\n",
    "            healthy = False\n",
    "    # scan through json for unhealthy drives\n",
    "    for dictobj in data['drives']:\n",
    "        for k, v in dictobj.items():\n",
    "            if k == 'state':\n",
    "                if v != 'healthy':\n",
    "                    print('ALERT!! UNHEALTHY DRIVE FOUND.')  # XXX: Later remove\n",
    "                    alert_data[f'Event {counter}'] = dictobj\n",
    "                    counter += 1\n",
    "                    healthy = False\n",
    "\n",
    "    if healthy:\n",
    "        print('No unhealthy changes found.')\n",
    "\n",
    "    return alert_data, healthy"
   ]
  },
  {
   "cell_type": "code",
   "execution_count": 60,
   "id": "1245de43-fa56-4452-a0e0-8bf02a87d086",
   "metadata": {},
   "outputs": [],
   "source": [
    "import socket\n",
    "\n",
    "def netcat(host, port):\n",
    "    s = socket.socket(socket.AF_INET, socket.SOCK_STREAM)\n",
    "    s.connect((host, int(port)))\n",
    "#     s.sendall(content.encode())\n",
    "    s.shutdown(socket.SHUT_WR)\n",
    "    while True:\n",
    "        data = s.recv(4096)\n",
    "        if not data:\n",
    "            break\n",
    "        print(repr(data))\n",
    "    s.close()"
   ]
  },
  {
   "cell_type": "code",
   "execution_count": 62,
   "id": "ff3207a2-c8cc-45a7-9baf-e51900581697",
   "metadata": {},
   "outputs": [
    {
     "ename": "ConnectionRefusedError",
     "evalue": "[Errno 61] Connection refused",
     "output_type": "error",
     "traceback": [
      "\u001b[0;31m---------------------------------------------------------------------------\u001b[0m",
      "\u001b[0;31mConnectionRefusedError\u001b[0m                    Traceback (most recent call last)",
      "\u001b[0;32m<ipython-input-62-337fbfc048ac>\u001b[0m in \u001b[0;36m<module>\u001b[0;34m\u001b[0m\n\u001b[0;32m----> 1\u001b[0;31m \u001b[0mnetcat\u001b[0m\u001b[0;34m(\u001b[0m\u001b[0;34m'10.120.0.39'\u001b[0m\u001b[0;34m,\u001b[0m \u001b[0;36m88\u001b[0m\u001b[0;34m)\u001b[0m\u001b[0;34m\u001b[0m\u001b[0;34m\u001b[0m\u001b[0m\n\u001b[0m",
      "\u001b[0;32m<ipython-input-60-dc204a050bb0>\u001b[0m in \u001b[0;36mnetcat\u001b[0;34m(host, port)\u001b[0m\n\u001b[1;32m      3\u001b[0m \u001b[0;32mdef\u001b[0m \u001b[0mnetcat\u001b[0m\u001b[0;34m(\u001b[0m\u001b[0mhost\u001b[0m\u001b[0;34m,\u001b[0m \u001b[0mport\u001b[0m\u001b[0;34m)\u001b[0m\u001b[0;34m:\u001b[0m\u001b[0;34m\u001b[0m\u001b[0;34m\u001b[0m\u001b[0m\n\u001b[1;32m      4\u001b[0m     \u001b[0ms\u001b[0m \u001b[0;34m=\u001b[0m \u001b[0msocket\u001b[0m\u001b[0;34m.\u001b[0m\u001b[0msocket\u001b[0m\u001b[0;34m(\u001b[0m\u001b[0msocket\u001b[0m\u001b[0;34m.\u001b[0m\u001b[0mAF_INET\u001b[0m\u001b[0;34m,\u001b[0m \u001b[0msocket\u001b[0m\u001b[0;34m.\u001b[0m\u001b[0mSOCK_STREAM\u001b[0m\u001b[0;34m)\u001b[0m\u001b[0;34m\u001b[0m\u001b[0;34m\u001b[0m\u001b[0m\n\u001b[0;32m----> 5\u001b[0;31m     \u001b[0ms\u001b[0m\u001b[0;34m.\u001b[0m\u001b[0mconnect\u001b[0m\u001b[0;34m(\u001b[0m\u001b[0;34m(\u001b[0m\u001b[0mhost\u001b[0m\u001b[0;34m,\u001b[0m \u001b[0mint\u001b[0m\u001b[0;34m(\u001b[0m\u001b[0mport\u001b[0m\u001b[0;34m)\u001b[0m\u001b[0;34m)\u001b[0m\u001b[0;34m)\u001b[0m\u001b[0;34m\u001b[0m\u001b[0;34m\u001b[0m\u001b[0m\n\u001b[0m\u001b[1;32m      6\u001b[0m \u001b[0;31m#     s.sendall(content.encode())\u001b[0m\u001b[0;34m\u001b[0m\u001b[0;34m\u001b[0m\u001b[0;34m\u001b[0m\u001b[0m\n\u001b[1;32m      7\u001b[0m     \u001b[0ms\u001b[0m\u001b[0;34m.\u001b[0m\u001b[0mshutdown\u001b[0m\u001b[0;34m(\u001b[0m\u001b[0msocket\u001b[0m\u001b[0;34m.\u001b[0m\u001b[0mSHUT_WR\u001b[0m\u001b[0;34m)\u001b[0m\u001b[0;34m\u001b[0m\u001b[0;34m\u001b[0m\u001b[0m\n",
      "\u001b[0;31mConnectionRefusedError\u001b[0m: [Errno 61] Connection refused"
     ]
    }
   ],
   "source": [
    "netcat('10.120.0.39', 88)"
   ]
  },
  {
   "cell_type": "code",
   "execution_count": 65,
   "id": "34d48c39-e6fb-462d-923e-bcc0b8c9e9ec",
   "metadata": {},
   "outputs": [],
   "source": [
    "import socket\n",
    "\n"
   ]
  },
  {
   "cell_type": "code",
   "execution_count": 67,
   "id": "c22f2c56-54b2-4ebd-9a43-8e55412c6764",
   "metadata": {},
   "outputs": [
    {
     "ename": "ConnectionRefusedError",
     "evalue": "[Errno 61] Connection refused",
     "output_type": "error",
     "traceback": [
      "\u001b[0;31m---------------------------------------------------------------------------\u001b[0m",
      "\u001b[0;31mConnectionRefusedError\u001b[0m                    Traceback (most recent call last)",
      "\u001b[0;32m<ipython-input-67-96158ad1474b>\u001b[0m in \u001b[0;36m<module>\u001b[0;34m\u001b[0m\n\u001b[0;32m----> 1\u001b[0;31m \u001b[0mnetcat\u001b[0m\u001b[0;34m(\u001b[0m\u001b[0;34m'10.120.0.39'\u001b[0m\u001b[0;34m,\u001b[0m \u001b[0;36m80\u001b[0m\u001b[0;34m)\u001b[0m\u001b[0;34m\u001b[0m\u001b[0;34m\u001b[0m\u001b[0m\n\u001b[0m",
      "\u001b[0;32m<ipython-input-65-6ea9c2d00cce>\u001b[0m in \u001b[0;36mnetcat\u001b[0;34m(host, ip_addr)\u001b[0m\n\u001b[1;32m      3\u001b[0m \u001b[0;32mdef\u001b[0m \u001b[0mnetcat\u001b[0m\u001b[0;34m(\u001b[0m\u001b[0mhost\u001b[0m\u001b[0;34m,\u001b[0m \u001b[0mip_addr\u001b[0m\u001b[0;34m)\u001b[0m\u001b[0;34m:\u001b[0m\u001b[0;34m\u001b[0m\u001b[0;34m\u001b[0m\u001b[0m\n\u001b[1;32m      4\u001b[0m     \u001b[0msock\u001b[0m \u001b[0;34m=\u001b[0m \u001b[0msocket\u001b[0m\u001b[0;34m.\u001b[0m\u001b[0msocket\u001b[0m\u001b[0;34m(\u001b[0m\u001b[0msocket\u001b[0m\u001b[0;34m.\u001b[0m\u001b[0mAF_INET\u001b[0m\u001b[0;34m,\u001b[0m \u001b[0msocket\u001b[0m\u001b[0;34m.\u001b[0m\u001b[0mSOCK_STREAM\u001b[0m\u001b[0;34m)\u001b[0m\u001b[0;34m\u001b[0m\u001b[0;34m\u001b[0m\u001b[0m\n\u001b[0;32m----> 5\u001b[0;31m     \u001b[0msock\u001b[0m\u001b[0;34m.\u001b[0m\u001b[0mconnect\u001b[0m\u001b[0;34m(\u001b[0m\u001b[0;34m(\u001b[0m\u001b[0mhost\u001b[0m\u001b[0;34m,\u001b[0m \u001b[0mip_addr\u001b[0m\u001b[0;34m)\u001b[0m\u001b[0;34m)\u001b[0m\u001b[0;34m\u001b[0m\u001b[0;34m\u001b[0m\u001b[0m\n\u001b[0m",
      "\u001b[0;31mConnectionRefusedError\u001b[0m: [Errno 61] Connection refused"
     ]
    }
   ],
   "source": [
    "netcat('10.120.0.39', 80)"
   ]
  },
  {
   "cell_type": "code",
   "execution_count": null,
   "id": "d2d43b51-a252-414b-83f6-ad3aad4e2858",
   "metadata": {},
   "outputs": [],
   "source": []
  },
  {
   "cell_type": "code",
   "execution_count": 68,
   "id": "f92e923c-85ba-4de6-858a-61c1240bfe52",
   "metadata": {},
   "outputs": [],
   "source": []
  },
  {
   "cell_type": "code",
   "execution_count": 69,
   "id": "1d169e8e-4735-471b-bbf0-0f6533c061ac",
   "metadata": {},
   "outputs": [
    {
     "name": "stdout",
     "output_type": "stream",
     "text": [
      "Port is not open\n"
     ]
    }
   ],
   "source": [
    "import socket\n",
    "\n",
    "a_socket = socket.socket(socket.AF_INET, socket.SOCK_STREAM)\n",
    "\n",
    "location = (\"10.120.0.34\", 8000)\n",
    "result_of_check = a_socket.connect_ex(location)\n",
    "\n",
    "if result_of_check == 0:\n",
    "   print(\"Port is open\")\n",
    "else:\n",
    "   print(\"Port is not open\")"
   ]
  },
  {
   "cell_type": "code",
   "execution_count": 70,
   "id": "f5b02964-7e33-4acc-bd7a-6dce38f0fad1",
   "metadata": {},
   "outputs": [
    {
     "data": {
      "text/plain": [
       "61"
      ]
     },
     "execution_count": 70,
     "metadata": {},
     "output_type": "execute_result"
    }
   ],
   "source": [
    "result_of_check"
   ]
  },
  {
   "cell_type": "code",
   "execution_count": 71,
   "id": "50dfe41e-bc59-4c42-9823-77e44abf3237",
   "metadata": {},
   "outputs": [
    {
     "data": {
      "text/plain": [
       "int"
      ]
     },
     "execution_count": 71,
     "metadata": {},
     "output_type": "execute_result"
    }
   ],
   "source": [
    "type(88)"
   ]
  },
  {
   "cell_type": "code",
   "execution_count": 88,
   "id": "3760d1df-13c1-4c52-ab17-1f922913eca3",
   "metadata": {},
   "outputs": [],
   "source": [
    "node_data = {\n",
    "  'nodes': [{'id': 1, 'node_status': 'online', 'node_name': 'CoffeeTime-1', 'uuid': '10a1c7aa-fb99-48a1-8dc3-b34b96777742', 'model_number': 'QVIRT', 'serial_number': 'QVIRT'}, {'id': 2, 'node_status': 'offline', 'node_name': 'CoffeeTime-2', 'uuid': 'cbdea0e3-1659-48af-b15b-e97dbbeefd04', 'model_number': 'QVIRT', 'serial_number': 'QVIRT'}, {'id': 3, 'node_status': 'online', 'node_name': 'CoffeeTime-3', 'uuid': '30cc2b34-93a0-4639-ae0b-ad57b4e5dc43', 'model_number': 'QVIRT', 'serial_number': 'QVIRT'}, {'id': 4, 'node_status': 'online', 'node_name': 'CoffeeTime-4', 'uuid': '8924daaa-fec3-49b2-9ee5-38352cabb8c3', 'model_number': 'QVIRT', 'serial_number': 'QVIRT'}], \n",
    "\n",
    "  'drives': [{'id': '1.1', 'node_id': 1, 'slot': 1, 'state': 'healthy', 'slot_type': 'SSD', 'disk_type': 'SSD', 'disk_model': 'Virtual_disk', 'disk_serial_number': '', 'capacity': '10467934208'}, {'id': '1.2', 'node_id': 1, 'slot': 2, 'state': 'healthy', 'slot_type': 'SSD', 'disk_type': 'SSD', 'disk_model': 'Virtual_disk', 'disk_serial_number': '', 'capacity': '10467934208'}, {'id': '1.3', 'node_id': 1, 'slot': 3, 'state': 'healthy', 'slot_type': 'HDD', 'disk_type': 'HDD', 'disk_model': 'Virtual_disk', 'disk_serial_number': '', 'capacity': '10467934208'}, {'id': '1.4', 'node_id': 1, 'slot': 4, 'state': 'healthy', 'slot_type': 'HDD', 'disk_type': 'HDD', 'disk_model': 'Virtual_disk', 'disk_serial_number': '', 'capacity': '10467934208'}, {'id': '1.5', 'node_id': 1, 'slot': 5, 'state': 'healthy', 'slot_type': 'HDD', 'disk_type': 'HDD', 'disk_model': 'Virtual_disk', 'disk_serial_number': '', 'capacity': '10467934208'}, {'id': '1.6', 'node_id': 1, 'slot': 6, 'state': 'healthy', 'slot_type': 'HDD', 'disk_type': 'HDD', 'disk_model': 'Virtual_disk', 'disk_serial_number': '', 'capacity': '10467934208'}, {'id': '2.1', 'node_id': 2, 'slot': 1, 'state': 'healthy', 'slot_type': 'SSD', 'disk_type': 'SSD', 'disk_model': 'Virtual_disk', 'disk_serial_number': '', 'capacity': '10467934208'}, {'id': '2.2', 'node_id': 2, 'slot': 2, 'state': 'unhealthy', 'slot_type': 'SSD', 'disk_type': 'SSD', 'disk_model': 'Virtual_disk', 'disk_serial_number': '', 'capacity': '10467934208'}, {'id': '2.3', 'node_id': 2, 'slot': 3, 'state': 'healthy', 'slot_type': 'HDD', 'disk_type': 'HDD', 'disk_model': 'Virtual_disk', 'disk_serial_number': '', 'capacity': '10467934208'}, {'id': '2.4', 'node_id': 2, 'slot': 4, 'state': 'healthy', 'slot_type': 'HDD', 'disk_type': 'HDD', 'disk_model': 'Virtual_disk', 'disk_serial_number': '', 'capacity': '10467934208'}, {'id': '2.5', 'node_id': 2, 'slot': 5, 'state': 'healthy', 'slot_type': 'HDD', 'disk_type': 'HDD', 'disk_model': 'Virtual_disk', 'disk_serial_number': '', 'capacity': '10467934208'}, {'id': '2.6', 'node_id': 2, 'slot': 6, 'state': 'healthy', 'slot_type': 'HDD', 'disk_type': 'HDD', 'disk_model': 'Virtual_disk', 'disk_serial_number': '', 'capacity': '10467934208'}, {'id': '3.1', 'node_id': 3, 'slot': 1, 'state': 'healthy', 'slot_type': 'SSD', 'disk_type': 'SSD', 'disk_model': 'Virtual_disk', 'disk_serial_number': '', 'capacity': '10467934208'}, {'id': '3.2', 'node_id': 3, 'slot': 2, 'state': 'healthy', 'slot_type': 'SSD', 'disk_type': 'SSD', 'disk_model': 'Virtual_disk', 'disk_serial_number': '', 'capacity': '10467934208'}, {'id': '3.3', 'node_id': 3, 'slot': 3, 'state': 'healthy', 'slot_type': 'HDD', 'disk_type': 'HDD', 'disk_model': 'Virtual_disk', 'disk_serial_number': '', 'capacity': '10467934208'}, {'id': '3.4', 'node_id': 3, 'slot': 4, 'state': 'healthy', 'slot_type': 'HDD', 'disk_type': 'HDD', 'disk_model': 'Virtual_disk', 'disk_serial_number': '', 'capacity': '10467934208'}, {'id': '3.5', 'node_id': 3, 'slot': 5, 'state': 'healthy', 'slot_type': 'HDD', 'disk_type': 'HDD', 'disk_model': 'Virtual_disk', 'disk_serial_number': '', 'capacity': '10467934208'}, {'id': '3.6', 'node_id': 3, 'slot': 6, 'state': 'healthy', 'slot_type': 'HDD', 'disk_type': 'HDD', 'disk_model': 'Virtual_disk', 'disk_serial_number': '', 'capacity': '10467934208'}, {'id': '4.1', 'node_id': 4, 'slot': 1, 'state': 'healthy', 'slot_type': 'SSD', 'disk_type': 'SSD', 'disk_model': 'Virtual_disk', 'disk_serial_number': '', 'capacity': '10467934208'}, {'id': '4.2', 'node_id': 4, 'slot': 2, 'state': 'healthy', 'slot_type': 'SSD', 'disk_type': 'SSD', 'disk_model': 'Virtual_disk', 'disk_serial_number': '', 'capacity': '10467934208'}, {'id': '4.3', 'node_id': 4, 'slot': 3, 'state': 'healthy', 'slot_type': 'HDD', 'disk_type': 'HDD', 'disk_model': 'Virtual_disk', 'disk_serial_number': '', 'capacity': '10467934208'}, {'id': '4.4', 'node_id': 4, 'slot': 4, 'state': 'healthy', 'slot_type': 'HDD', 'disk_type': 'HDD', 'disk_model': 'Virtual_disk', 'disk_serial_number': '', 'capacity': '10467934208'}, {'id': '4.5', 'node_id': 4, 'slot': 5, 'state': 'healthy', 'slot_type': 'HDD', 'disk_type': 'HDD', 'disk_model': 'Virtual_disk', 'disk_serial_number': '', 'capacity': '10467934208'}, {'id': '4.6', 'node_id': 4, 'slot': 6, 'state': 'healthy', 'slot_type': 'HDD', 'disk_type': 'HDD', 'disk_model': 'Virtual_disk', 'disk_serial_number': '', 'capacity': '10467934208'}]\n",
    "}"
   ]
  },
  {
   "cell_type": "code",
   "execution_count": 91,
   "id": "4dfdccff-9ab5-4211-ab0d-9e22e4dc46b9",
   "metadata": {},
   "outputs": [],
   "source": [
    "drives = node_data['drives']"
   ]
  },
  {
   "cell_type": "code",
   "execution_count": 93,
   "id": "04ca8dbd-d6b4-4267-9319-cf06dd12b578",
   "metadata": {},
   "outputs": [
    {
     "name": "stdout",
     "output_type": "stream",
     "text": [
      "healthy!\n",
      "healthy!\n",
      "healthy!\n",
      "healthy!\n",
      "healthy!\n",
      "healthy!\n",
      "healthy!\n",
      "unhealthy!\n",
      "healthy!\n",
      "healthy!\n",
      "healthy!\n",
      "healthy!\n",
      "healthy!\n",
      "healthy!\n",
      "healthy!\n",
      "healthy!\n",
      "healthy!\n",
      "healthy!\n",
      "healthy!\n",
      "healthy!\n",
      "healthy!\n",
      "healthy!\n",
      "healthy!\n",
      "healthy!\n"
     ]
    }
   ],
   "source": [
    "for drive in drives:\n",
    "    if drive['state'] == 'healthy':\n",
    "        print('healthy!')\n",
    "    else:\n",
    "        print('unhealthy!')"
   ]
  },
  {
   "cell_type": "code",
   "execution_count": 95,
   "id": "c8bf5bd3-4ef0-4a8d-85ed-c390d5d68ad7",
   "metadata": {},
   "outputs": [],
   "source": [
    "bbbody = (\n",
    "    'The cluster_event_alerts.py script has encountered an'\n",
    "    'API connection timeout and the script has stopped running. '\n",
    "    'Please check the machine\\'s connection to the cluster over '\n",
    "    'the required port (default 8000).'\n",
    ")"
   ]
  },
  {
   "cell_type": "code",
   "execution_count": 96,
   "id": "cf74bf06-3d7f-4506-8847-1b753b11cece",
   "metadata": {},
   "outputs": [
    {
     "data": {
      "text/plain": [
       "\"The cluster_event_alerts.py script has encountered anAPI connection timeout and the script has stopped running. Please check the machine's connection to the cluster over the required port (default 8000).\""
      ]
     },
     "execution_count": 96,
     "metadata": {},
     "output_type": "execute_result"
    }
   ],
   "source": [
    "bbbody"
   ]
  },
  {
   "cell_type": "code",
   "execution_count": null,
   "id": "1994ba21-a959-4139-b1cc-698395c7742b",
   "metadata": {},
   "outputs": [],
   "source": []
  }
 ],
 "metadata": {
  "kernelspec": {
   "display_name": "Python 3",
   "language": "python",
   "name": "python3"
  },
  "language_info": {
   "codemirror_mode": {
    "name": "ipython",
    "version": 3
   },
   "file_extension": ".py",
   "mimetype": "text/x-python",
   "name": "python",
   "nbconvert_exporter": "python",
   "pygments_lexer": "ipython3",
   "version": "3.6.9"
  }
 },
 "nbformat": 4,
 "nbformat_minor": 5
}
