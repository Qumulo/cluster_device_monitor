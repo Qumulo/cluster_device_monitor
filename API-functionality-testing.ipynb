{
 "cells": [
  {
   "cell_type": "code",
   "execution_count": 1,
   "id": "a6e81cac-4c55-499a-8dab-a75bc5e902c2",
   "metadata": {},
   "outputs": [],
   "source": [
    "import json\n",
    "import os\n",
    "import qumulo\n",
    "from qumulo.rest_client import RestClient"
   ]
  },
  {
   "cell_type": "code",
   "execution_count": 2,
   "id": "47eb56ae-e1b1-4e1d-8be6-53aa1c46ff98",
   "metadata": {},
   "outputs": [],
   "source": [
    "API_HOSTNAME = '10.120.0.34'\n",
    "API_USERNAME = 'admin'\n",
    "API_PASSWORD = 'Admin123'"
   ]
  },
  {
   "cell_type": "code",
   "execution_count": 3,
   "id": "47833b0c-0759-44bd-902e-3ff440c22ba5",
   "metadata": {},
   "outputs": [],
   "source": [
    "def cluster_login(api_hostname, api_username, api_password):\n",
    "    \"\"\"\n",
    "    Log into cluster and return rest client object.\n",
    "    \"\"\"\n",
    "    print('Logging into cluster...')\n",
    "    rest_client = RestClient(api_hostname, 8000)\n",
    "    rest_client.login(api_username, api_password)\n",
    "\n",
    "    return rest_client"
   ]
  },
  {
   "cell_type": "code",
   "execution_count": 4,
   "id": "8dcdcafc-65a4-475f-8ae5-ac768e1c7050",
   "metadata": {},
   "outputs": [
    {
     "name": "stdout",
     "output_type": "stream",
     "text": [
      "Logging into cluster...\n"
     ]
    }
   ],
   "source": [
    "rest_client = cluster_login(API_HOSTNAME, API_USERNAME, API_PASSWORD)"
   ]
  },
  {
   "cell_type": "code",
   "execution_count": 5,
   "id": "8283ef8d-e746-4ff5-aea8-0c278e57469b",
   "metadata": {},
   "outputs": [],
   "source": [
    "# rest_client.ad.list_ad()"
   ]
  },
  {
   "cell_type": "code",
   "execution_count": 6,
   "id": "7a77b21c-f79a-4752-a37e-703325bdc764",
   "metadata": {},
   "outputs": [],
   "source": [
    "# rest_client.cluster.list_nodes()"
   ]
  },
  {
   "cell_type": "code",
   "execution_count": 7,
   "id": "3d73cd90-9767-4583-b1b6-af2740642fd4",
   "metadata": {},
   "outputs": [
    {
     "data": {
      "text/plain": [
       "'online'"
      ]
     },
     "execution_count": 7,
     "metadata": {},
     "output_type": "execute_result"
    }
   ],
   "source": [
    "rest_client.cluster.list_nodes()[0]['node_status']"
   ]
  },
  {
   "cell_type": "code",
   "execution_count": 8,
   "id": "d2161a79-9d62-42a7-a066-1b2ea5bac95b",
   "metadata": {},
   "outputs": [
    {
     "data": {
      "text/plain": [
       "{'node_id': 1,\n",
       " 'state': 'ACTIVE',\n",
       " 'cluster_id': 'cf83e828-7ef7-4368-a75b-3b972d10f2c6'}"
      ]
     },
     "execution_count": 8,
     "metadata": {},
     "output_type": "execute_result"
    }
   ],
   "source": [
    "rest_client.node_state.get_node_state()"
   ]
  },
  {
   "cell_type": "code",
   "execution_count": 9,
   "id": "df575f67-b525-4081-9b12-252f899644cf",
   "metadata": {},
   "outputs": [],
   "source": [
    "# rest_client.cluster.get_cluster_slots_status()"
   ]
  },
  {
   "cell_type": "code",
   "execution_count": 10,
   "id": "4f877c2e-b918-494f-8335-5f6f591c2a00",
   "metadata": {},
   "outputs": [],
   "source": [
    "multilinestring = \"\"\"\n",
    "this\n",
    "that\n",
    "then\n",
    "your mom\n",
    "\"\"\""
   ]
  },
  {
   "cell_type": "code",
   "execution_count": 11,
   "id": "773e4f1c-f508-4221-ac99-d14f99fd6e9a",
   "metadata": {},
   "outputs": [
    {
     "data": {
      "text/plain": [
       "'\\nthis\\nthat\\nthen\\nyour mom\\n'"
      ]
     },
     "execution_count": 11,
     "metadata": {},
     "output_type": "execute_result"
    }
   ],
   "source": [
    "multilinestring"
   ]
  },
  {
   "cell_type": "code",
   "execution_count": 12,
   "id": "b2ea26ce-0151-43a9-9e78-0aa9e62a478a",
   "metadata": {},
   "outputs": [
    {
     "name": "stdout",
     "output_type": "stream",
     "text": [
      "\n",
      "this\n",
      "that\n",
      "then\n",
      "your mom\n",
      "\n"
     ]
    }
   ],
   "source": [
    "print(multilinestring)"
   ]
  },
  {
   "cell_type": "code",
   "execution_count": 13,
   "id": "d74f498f-7fd0-4a13-958c-70507cfa667a",
   "metadata": {},
   "outputs": [],
   "source": [
    "# rest_client.cluster.get_cluster_slots_status()"
   ]
  },
  {
   "cell_type": "code",
   "execution_count": 14,
   "id": "ec95a16f-1e71-4a5a-9625-cbb4e8018580",
   "metadata": {},
   "outputs": [
    {
     "data": {
      "text/plain": [
       "'/Users/rthompson/Documents/Dev/Python/cluster-event-alerts'"
      ]
     },
     "execution_count": 14,
     "metadata": {},
     "output_type": "execute_result"
    }
   ],
   "source": [
    "os.getcwd()"
   ]
  },
  {
   "cell_type": "code",
   "execution_count": 15,
   "id": "913e8bf1-2242-402b-84eb-5f1b83d297dc",
   "metadata": {},
   "outputs": [],
   "source": [
    "# if 'cluster_state.json' in os.listdir():\n",
    "#     os.rename('cluster_state.json','cluster_state_previous.json')\n",
    "#     PREVIOUS_EXISTED = True\n",
    "\n",
    "with open('cluster_state.json', 'w') as f:\n",
    "    for data in rest_client.cluster.list_nodes():\n",
    "        f.writelines(data)"
   ]
  },
  {
   "cell_type": "code",
   "execution_count": 16,
   "id": "05193dff-f614-4ae5-baca-51cfc9cb373d",
   "metadata": {},
   "outputs": [],
   "source": [
    "# for item in rest_client.cluster.list_nodes():\n",
    "#     print(item)"
   ]
  },
  {
   "cell_type": "code",
   "execution_count": 17,
   "id": "8c6f1804-c7da-4200-82dc-6c62c40fde1a",
   "metadata": {},
   "outputs": [],
   "source": [
    "# rest_client.cluster.list_nodes()[:2]"
   ]
  },
  {
   "cell_type": "code",
   "execution_count": 18,
   "id": "8e6866b5-4373-44e1-9ca7-118c7283f22a",
   "metadata": {},
   "outputs": [
    {
     "data": {
      "text/plain": [
       "{'id': 1,\n",
       " 'node_status': 'online',\n",
       " 'node_name': 'CoffeeTime-1',\n",
       " 'uuid': '10a1c7aa-fb99-48a1-8dc3-b34b96777742',\n",
       " 'label': '00:50:56:bf:68:82',\n",
       " 'model_number': 'QVIRT',\n",
       " 'serial_number': 'QVIRT',\n",
       " 'mac_address': '00:50:56:bf:68:82'}"
      ]
     },
     "execution_count": 18,
     "metadata": {},
     "output_type": "execute_result"
    }
   ],
   "source": [
    "rest_client.cluster.list_nodes()[0]"
   ]
  },
  {
   "cell_type": "code",
   "execution_count": 19,
   "id": "d3e55144-8b89-4d0c-9dd9-83d9f2453dba",
   "metadata": {},
   "outputs": [],
   "source": [
    "node_relevant_fields = ['id','node_status','node_name','uuid','model_number','serial_number']\n",
    "drive_relevant_fields = ['id','node_id','slot','state','slot_type','disk_type','disk_model','disk_serial_number','capacity']"
   ]
  },
  {
   "cell_type": "code",
   "execution_count": 20,
   "id": "3f4be7c7-111a-4a56-b4c9-8af24c735d5d",
   "metadata": {},
   "outputs": [],
   "source": [
    "newlist = []\n",
    "for entry in range(len(rest_client.cluster.list_nodes())):\n",
    "    newdict = {}\n",
    "    for k,v in rest_client.cluster.list_nodes()[entry].items():\n",
    "        if k in node_relevant_fields:\n",
    "            newdict[k] = v\n",
    "    newlist.append(newdict)"
   ]
  },
  {
   "cell_type": "code",
   "execution_count": 21,
   "id": "8b8053b0-330d-482a-83e9-a7dda1a2db69",
   "metadata": {},
   "outputs": [
    {
     "name": "stdout",
     "output_type": "stream",
     "text": [
      "0\n",
      "1\n",
      "2\n",
      "3\n"
     ]
    }
   ],
   "source": [
    "for entry in range(len(rest_client.cluster.list_nodes())):\n",
    "    print(entry)"
   ]
  },
  {
   "cell_type": "code",
   "execution_count": 22,
   "id": "0b423131-d514-4d14-ac67-8d53717b6a07",
   "metadata": {},
   "outputs": [
    {
     "data": {
      "text/plain": [
       "dict_items([('id', 2), ('node_status', 'online'), ('node_name', 'CoffeeTime-2'), ('uuid', 'cbdea0e3-1659-48af-b15b-e97dbbeefd04'), ('label', '00:50:56:bf:f1:57'), ('model_number', 'QVIRT'), ('serial_number', 'QVIRT'), ('mac_address', '00:50:56:bf:f1:57')])"
      ]
     },
     "execution_count": 22,
     "metadata": {},
     "output_type": "execute_result"
    }
   ],
   "source": [
    "rest_client.cluster.list_nodes()[1].items()"
   ]
  },
  {
   "cell_type": "code",
   "execution_count": 45,
   "id": "999c9482-9319-49d2-8e8d-54f5d0afb90c",
   "metadata": {},
   "outputs": [],
   "source": [
    "def get_qq_version(rest_client):\n",
    "    \"\"\"\n",
    "    Query API for Qumulo Core version.\n",
    "    \"\"\"\n",
    "\n",
    "    qq_version = rest_client.version.version()['revision_id']\n",
    "\n",
    "    return qq_version"
   ]
  },
  {
   "cell_type": "code",
   "execution_count": 56,
   "id": "6aed9ad6-5b6c-4245-a53c-973a50fd8970",
   "metadata": {},
   "outputs": [],
   "source": [
    "def get_cluster_time(rest_client):\n",
    "    \"\"\"\n",
    "    Get cluster time and return as cluster_time.\n",
    "    \"\"\"\n",
    "    \n",
    "    cluster_time = rest_client.time_config.get_time_status()['time']\n",
    "    \n",
    "    return cluster_time\n",
    "\n",
    "# cluster_time = get_cluster_time(rest_client)"
   ]
  },
  {
   "cell_type": "code",
   "execution_count": 23,
   "id": "f8cb4a02-fce7-44b6-b265-9aa233b4524b",
   "metadata": {},
   "outputs": [],
   "source": [
    "def retrieve_status_of_cluster_nodes(rest_client):\n",
    "    \"\"\"\n",
    "    Accept rest_client object to query via API call to retrieve info/status for\n",
    "    nodes. Parse through information and record relevant information. Return\n",
    "    dict object to later dump as json.\n",
    "    \"\"\"\n",
    "    node_relevant_fields = [\n",
    "        'id',\n",
    "        'node_status',\n",
    "        'node_name',\n",
    "        'uuid',\n",
    "        'model_number',\n",
    "        'serial_number',\n",
    "    ]\n",
    "\n",
    "    temp_list = []\n",
    "    for num in range(len(rest_client.cluster.list_nodes())):\n",
    "        new_dict = {}\n",
    "        for k,v in rest_client.cluster.list_nodes()[num].items():\n",
    "            if k in node_relevant_fields:\n",
    "                new_dict[k] = v\n",
    "        temp_list.append(new_dict)\n",
    "    \n",
    "    status_of_nodes = {}\n",
    "    status_of_nodes[\"nodes\"] = temp_list\n",
    "    \n",
    "    return status_of_nodes"
   ]
  },
  {
   "cell_type": "code",
   "execution_count": 24,
   "id": "bff90f88-9237-4627-90a1-1f158cc2c1d2",
   "metadata": {},
   "outputs": [],
   "source": [
    "def retrieve_status_of_cluster_drives(rest_client):\n",
    "    \"\"\"\n",
    "    Accept rest_client object to query via API call to retrieve info/status for\n",
    "    drives. Parse through information and record relevant information. Return\n",
    "    dict object to later dump as json.\n",
    "    \"\"\"\n",
    "    drive_relevant_fields = [\n",
    "        'id',\n",
    "        'node_id',\n",
    "        'slot',\n",
    "        'state',\n",
    "        'slot_type',\n",
    "        'disk_type',\n",
    "        'disk_model',\n",
    "        'disk_serial_number',\n",
    "        'capacity',\n",
    "    ]\n",
    "\n",
    "    temp_list = []\n",
    "    for num in range(len(rest_client.cluster.get_cluster_slots_status())):\n",
    "        new_dict = {}\n",
    "        for k,v in rest_client.cluster.get_cluster_slots_status()[num].items():\n",
    "            if k in drive_relevant_fields:\n",
    "                new_dict[k] = v\n",
    "        temp_list.append(new_dict)\n",
    "\n",
    "    status_of_drives = {}\n",
    "    status_of_drives[\"drives\"] = temp_list\n",
    "    \n",
    "    return status_of_drives"
   ]
  },
  {
   "cell_type": "code",
   "execution_count": 25,
   "id": "4b5d53ba-514a-460d-9d21-c0f653eef1e3",
   "metadata": {},
   "outputs": [],
   "source": [
    "status_of_nodes = retrieve_status_of_cluster_nodes(rest_client)\n",
    "# status_of_nodes"
   ]
  },
  {
   "cell_type": "code",
   "execution_count": 26,
   "id": "60823668-59fb-4e62-ac87-2d8917346f9b",
   "metadata": {},
   "outputs": [],
   "source": [
    "status_of_drives = retrieve_status_of_cluster_drives(rest_client)\n",
    "# status_of_drives"
   ]
  },
  {
   "cell_type": "code",
   "execution_count": 27,
   "id": "6f92217b-b34b-48e1-8a79-f201a79e0e99",
   "metadata": {},
   "outputs": [],
   "source": [
    "def combine_statuses_formatting(status_of_nodes, status_of_drives):\n",
    "    \"\"\"\n",
    "    In order to adhere to proper json formatting, this func will combine the\n",
    "    two status_of_nodes and status_of_drives dictionary objects into one\n",
    "    single dictionary object.\n",
    "    \"\"\"\n",
    "    status_of_nodes['drives'] = status_of_drives['drives']    \n",
    "    cluster_status = status_of_nodes\n",
    "    \n",
    "    return cluster_status"
   ]
  },
  {
   "cell_type": "code",
   "execution_count": 28,
   "id": "308fc687-bef4-4d61-b261-2e0b85010047",
   "metadata": {
    "tags": []
   },
   "outputs": [],
   "source": [
    "cluster_status = combine_statuses_formatting(status_of_nodes, status_of_drives)"
   ]
  },
  {
   "cell_type": "code",
   "execution_count": 29,
   "id": "79dd7896-716b-46a8-8866-11fd2d2ab242",
   "metadata": {},
   "outputs": [],
   "source": [
    "def check_for_previous_state(cluster_status):\n",
    "    \"\"\"\n",
    "    If cluster_state.json exists, rename it to cluster_state_previous.json.\n",
    "    Regardless of this, then create cluster_state.json and write node + drive\n",
    "    statuses to file. Return variable for previous_existed.\n",
    "    \"\"\"\n",
    "    if 'cluster_state.json' in os.listdir():\n",
    "        os.rename('cluster_state.json','cluster_state_previous.json')\n",
    "        previous_existed = True\n",
    "    else:\n",
    "        previous_existed = False\n",
    "    with open('cluster_state.json', 'w') as f:\n",
    "        json.dump(cluster_status, f, indent=4)\n",
    "        # f.write('\\n')\n",
    "        # json.dump(status_of_drives, f, indent=4)\n",
    "\n",
    "    return previous_existed"
   ]
  },
  {
   "cell_type": "code",
   "execution_count": 30,
   "id": "43f7c758-0180-435b-a8e0-f0d4a9239ac2",
   "metadata": {},
   "outputs": [],
   "source": [
    "def compare_states():\n",
    "    \"\"\"\n",
    "    If a previous state file existed, then compare new cluster state to previous\n",
    "    cluster state and check for any changes, IE nodes offline or drive issues.\n",
    "    Once the comparison is complete, remove the previous state file and rename\n",
    "    cluster_state.json to cluster_state_previous.json.\n",
    "    \"\"\"\n",
    "    \n",
    "    # XXX: Might not need this\n",
    "    changes = False\n",
    "    \n",
    "    # XXX: add logic here to compare the two files and look for CHANGES\n",
    "    if previous_existed:\n",
    "        pass  \n",
    "    else:\n",
    "        pass\n",
    "    \n",
    "    return changes"
   ]
  },
  {
   "cell_type": "code",
   "execution_count": 31,
   "id": "cd3205e5-40c9-42e7-add8-fab6d2ea58ec",
   "metadata": {},
   "outputs": [],
   "source": [
    "previous_existed = check_for_previous_state(cluster_status)"
   ]
  },
  {
   "cell_type": "code",
   "execution_count": 33,
   "id": "3720393f-ec9d-4e44-8492-4a2c5a5360af",
   "metadata": {},
   "outputs": [],
   "source": [
    "def check_for_unhealthy_objects():\n",
    "    \"\"\" \n",
    "    Scan the cluster_state.json file to determine whether or not there are \n",
    "    unhealthy objects.\n",
    "    \"\"\"\n",
    "    \n",
    "    healthy = True\n",
    "    with open('cluster_state_TEST.json') as f:\n",
    "        data = json.load(f)\n",
    "        alert_data = {}\n",
    "        counter = 1\n",
    "    \n",
    "    for dictobj in data['nodes']:\n",
    "        for k,v in dictobj.items():\n",
    "            if k == 'node_status':\n",
    "                if v != 'online':\n",
    "                    print('ALERT!! UNHEALTHY NODE FOUND.')\n",
    "                    alert_data[f'Event {counter}'] = dictobj\n",
    "                    counter += 1\n",
    "                    healthy = False\n",
    "\n",
    "                    \n",
    "    for dictobj in data['drives']:\n",
    "        for k,v in dictobj.items():\n",
    "            if k == 'state':\n",
    "                if v != 'healthy':\n",
    "                    print('ALERT!! UNHEALTHY DRIVE FOUND.')                    \n",
    "                    alert_data[f'Event {counter}'] = dictobj   \n",
    "                    counter += 1\n",
    "                    healthy = False\n",
    "        \n",
    "    print(alert_data)"
   ]
  },
  {
   "cell_type": "code",
   "execution_count": 36,
   "id": "03313f21-67d5-4d49-86e3-577eade0c4c7",
   "metadata": {},
   "outputs": [
    {
     "name": "stdout",
     "output_type": "stream",
     "text": [
      "comparison: True\n"
     ]
    }
   ],
   "source": [
    "json1 = json.dumps('cluster_state.json', sort_keys=True)\n",
    "json2 = json.dumps('cluster_state_TEST.json', sort_keys=True)\n",
    "print(f'comparison: {json1 != json2}')"
   ]
  },
  {
   "cell_type": "code",
   "execution_count": 37,
   "id": "4ebe6edb-8950-4d20-b2b8-b5cf394dd3a6",
   "metadata": {},
   "outputs": [
    {
     "name": "stdout",
     "output_type": "stream",
     "text": [
      "False\n"
     ]
    }
   ],
   "source": [
    "with open('cluster_state.json') as f1, open('cluster_state_TEST.json') as f2:\n",
    "    data1 = json.load(f1)\n",
    "    data2 = json.load(f2)\n",
    "    something = data1 == data2\n",
    "    print(something)"
   ]
  },
  {
   "cell_type": "code",
   "execution_count": 38,
   "id": "9b10beac-b403-4dc8-b918-699d1a1db587",
   "metadata": {},
   "outputs": [],
   "source": [
    "with open('cluster_state.json') as f1, open('cluster_state_TEST.json') as f2:\n",
    "    pass"
   ]
  },
  {
   "cell_type": "code",
   "execution_count": 41,
   "id": "d2fa2c90-f2ff-48e8-9bec-0e167350fe89",
   "metadata": {},
   "outputs": [],
   "source": []
  },
  {
   "cell_type": "code",
   "execution_count": 42,
   "id": "c0f55aa4-3dc5-4182-a818-2da71fc0b30e",
   "metadata": {},
   "outputs": [],
   "source": [
    "qqv = get_qq_version(rest_client)"
   ]
  },
  {
   "cell_type": "code",
   "execution_count": 44,
   "id": "c18c006e-3ded-4899-8555-c8a3c9278813",
   "metadata": {},
   "outputs": [
    {
     "data": {
      "text/plain": [
       "str"
      ]
     },
     "execution_count": 44,
     "metadata": {},
     "output_type": "execute_result"
    }
   ],
   "source": [
    "type(qqv)"
   ]
  }
 ],
 "metadata": {
  "kernelspec": {
   "display_name": "Python 3",
   "language": "python",
   "name": "python3"
  },
  "language_info": {
   "codemirror_mode": {
    "name": "ipython",
    "version": 3
   },
   "file_extension": ".py",
   "mimetype": "text/x-python",
   "name": "python",
   "nbconvert_exporter": "python",
   "pygments_lexer": "ipython3",
   "version": "3.6.9"
  }
 },
 "nbformat": 4,
 "nbformat_minor": 5
}
